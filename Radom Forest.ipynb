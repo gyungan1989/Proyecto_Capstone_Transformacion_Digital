{
 "cells": [
  {
   "cell_type": "markdown",
   "id": "bbdd79ea",
   "metadata": {},
   "source": [
    "# ANÁLISIS RANDOM FOREST"
   ]
  },
  {
   "cell_type": "markdown",
   "id": "2c704232",
   "metadata": {},
   "source": [
    "### Importación de librerías y apertura de Dataframe"
   ]
  },
  {
   "cell_type": "code",
   "execution_count": 1,
   "id": "9da4ee9e",
   "metadata": {},
   "outputs": [],
   "source": [
    "# Importar librerías \n",
    "import pandas as pd\n",
    "import numpy as np\n",
    "import matplotlib.pyplot as plt\n",
    "import seaborn as sns\n",
    "# reset rc params to defaults\n",
    "sns.reset_orig()"
   ]
  },
  {
   "cell_type": "code",
   "execution_count": 2,
   "id": "dd8009dd",
   "metadata": {},
   "outputs": [],
   "source": [
    "import statsmodels.stats.api as sms # Para la regresión y validación de supuestos ejecutamos el statsmodels\n",
    "import statsmodels.api as sm # Submódulo de statsmodels que son las estadisticas \"stats\"\n",
    "from statsmodels.formula.api import ols # La fórmula api de statsmodel permite seguir la notación antes revisada\n",
    "from statsmodels.compat import lzip # Módulo para las pruebas de hipótesis."
   ]
  },
  {
   "cell_type": "code",
   "execution_count": 3,
   "id": "51e0466d",
   "metadata": {
    "scrolled": true
   },
   "outputs": [
    {
     "data": {
      "text/html": [
       "<div>\n",
       "<style scoped>\n",
       "    .dataframe tbody tr th:only-of-type {\n",
       "        vertical-align: middle;\n",
       "    }\n",
       "\n",
       "    .dataframe tbody tr th {\n",
       "        vertical-align: top;\n",
       "    }\n",
       "\n",
       "    .dataframe thead th {\n",
       "        text-align: right;\n",
       "    }\n",
       "</style>\n",
       "<table border=\"1\" class=\"dataframe\">\n",
       "  <thead>\n",
       "    <tr style=\"text-align: right;\">\n",
       "      <th></th>\n",
       "      <th>des_tamano</th>\n",
       "      <th>tic1_2</th>\n",
       "      <th>tic1_3a</th>\n",
       "      <th>tic1_3b</th>\n",
       "      <th>tic1_3c</th>\n",
       "      <th>tic1_3d</th>\n",
       "      <th>tic2_1</th>\n",
       "      <th>tic2_2_1a</th>\n",
       "      <th>tic2_2_1b</th>\n",
       "      <th>tic2_2_1c</th>\n",
       "      <th>...</th>\n",
       "      <th>tic5_1d</th>\n",
       "      <th>tic5_1f</th>\n",
       "      <th>tic5_1h</th>\n",
       "      <th>tic6_1</th>\n",
       "      <th>tic6_2a</th>\n",
       "      <th>tic6_2b</th>\n",
       "      <th>tic6_2c</th>\n",
       "      <th>AÃ±o</th>\n",
       "      <th>Total_Personal</th>\n",
       "      <th>Total_Espec</th>\n",
       "    </tr>\n",
       "  </thead>\n",
       "  <tbody>\n",
       "    <tr>\n",
       "      <th>0</th>\n",
       "      <td>2</td>\n",
       "      <td>3481</td>\n",
       "      <td>0</td>\n",
       "      <td>3481</td>\n",
       "      <td>0</td>\n",
       "      <td>0</td>\n",
       "      <td>1</td>\n",
       "      <td>2</td>\n",
       "      <td>2</td>\n",
       "      <td>1</td>\n",
       "      <td>...</td>\n",
       "      <td>2</td>\n",
       "      <td>2</td>\n",
       "      <td>2</td>\n",
       "      <td>2</td>\n",
       "      <td>2</td>\n",
       "      <td>2</td>\n",
       "      <td>1</td>\n",
       "      <td>2016</td>\n",
       "      <td>2</td>\n",
       "      <td>0</td>\n",
       "    </tr>\n",
       "    <tr>\n",
       "      <th>1</th>\n",
       "      <td>0</td>\n",
       "      <td>1200</td>\n",
       "      <td>600</td>\n",
       "      <td>360</td>\n",
       "      <td>240</td>\n",
       "      <td>0</td>\n",
       "      <td>1</td>\n",
       "      <td>1</td>\n",
       "      <td>2</td>\n",
       "      <td>2</td>\n",
       "      <td>...</td>\n",
       "      <td>2</td>\n",
       "      <td>2</td>\n",
       "      <td>1</td>\n",
       "      <td>2</td>\n",
       "      <td>2</td>\n",
       "      <td>2</td>\n",
       "      <td>1</td>\n",
       "      <td>2016</td>\n",
       "      <td>2</td>\n",
       "      <td>0</td>\n",
       "    </tr>\n",
       "    <tr>\n",
       "      <th>2</th>\n",
       "      <td>2</td>\n",
       "      <td>4761</td>\n",
       "      <td>4761</td>\n",
       "      <td>0</td>\n",
       "      <td>0</td>\n",
       "      <td>0</td>\n",
       "      <td>1</td>\n",
       "      <td>2</td>\n",
       "      <td>2</td>\n",
       "      <td>1</td>\n",
       "      <td>...</td>\n",
       "      <td>1</td>\n",
       "      <td>1</td>\n",
       "      <td>1</td>\n",
       "      <td>2</td>\n",
       "      <td>2</td>\n",
       "      <td>2</td>\n",
       "      <td>1</td>\n",
       "      <td>2016</td>\n",
       "      <td>8</td>\n",
       "      <td>0</td>\n",
       "    </tr>\n",
       "    <tr>\n",
       "      <th>3</th>\n",
       "      <td>2</td>\n",
       "      <td>31598</td>\n",
       "      <td>31598</td>\n",
       "      <td>0</td>\n",
       "      <td>0</td>\n",
       "      <td>0</td>\n",
       "      <td>1</td>\n",
       "      <td>2</td>\n",
       "      <td>1</td>\n",
       "      <td>2</td>\n",
       "      <td>...</td>\n",
       "      <td>2</td>\n",
       "      <td>1</td>\n",
       "      <td>2</td>\n",
       "      <td>2</td>\n",
       "      <td>2</td>\n",
       "      <td>2</td>\n",
       "      <td>1</td>\n",
       "      <td>2016</td>\n",
       "      <td>1</td>\n",
       "      <td>0</td>\n",
       "    </tr>\n",
       "    <tr>\n",
       "      <th>4</th>\n",
       "      <td>1</td>\n",
       "      <td>101277</td>\n",
       "      <td>101277</td>\n",
       "      <td>0</td>\n",
       "      <td>0</td>\n",
       "      <td>0</td>\n",
       "      <td>1</td>\n",
       "      <td>2</td>\n",
       "      <td>2</td>\n",
       "      <td>1</td>\n",
       "      <td>...</td>\n",
       "      <td>2</td>\n",
       "      <td>1</td>\n",
       "      <td>2</td>\n",
       "      <td>2</td>\n",
       "      <td>2</td>\n",
       "      <td>2</td>\n",
       "      <td>1</td>\n",
       "      <td>2016</td>\n",
       "      <td>3</td>\n",
       "      <td>0</td>\n",
       "    </tr>\n",
       "    <tr>\n",
       "      <th>...</th>\n",
       "      <td>...</td>\n",
       "      <td>...</td>\n",
       "      <td>...</td>\n",
       "      <td>...</td>\n",
       "      <td>...</td>\n",
       "      <td>...</td>\n",
       "      <td>...</td>\n",
       "      <td>...</td>\n",
       "      <td>...</td>\n",
       "      <td>...</td>\n",
       "      <td>...</td>\n",
       "      <td>...</td>\n",
       "      <td>...</td>\n",
       "      <td>...</td>\n",
       "      <td>...</td>\n",
       "      <td>...</td>\n",
       "      <td>...</td>\n",
       "      <td>...</td>\n",
       "      <td>...</td>\n",
       "      <td>...</td>\n",
       "      <td>...</td>\n",
       "    </tr>\n",
       "    <tr>\n",
       "      <th>14024</th>\n",
       "      <td>0</td>\n",
       "      <td>33388</td>\n",
       "      <td>0</td>\n",
       "      <td>33388</td>\n",
       "      <td>0</td>\n",
       "      <td>0</td>\n",
       "      <td>1</td>\n",
       "      <td>2</td>\n",
       "      <td>2</td>\n",
       "      <td>1</td>\n",
       "      <td>...</td>\n",
       "      <td>1</td>\n",
       "      <td>1</td>\n",
       "      <td>1</td>\n",
       "      <td>2</td>\n",
       "      <td>2</td>\n",
       "      <td>1</td>\n",
       "      <td>2</td>\n",
       "      <td>2021</td>\n",
       "      <td>3</td>\n",
       "      <td>0</td>\n",
       "    </tr>\n",
       "    <tr>\n",
       "      <th>14025</th>\n",
       "      <td>0</td>\n",
       "      <td>26819</td>\n",
       "      <td>16359</td>\n",
       "      <td>10459</td>\n",
       "      <td>0</td>\n",
       "      <td>0</td>\n",
       "      <td>1</td>\n",
       "      <td>2</td>\n",
       "      <td>2</td>\n",
       "      <td>1</td>\n",
       "      <td>...</td>\n",
       "      <td>2</td>\n",
       "      <td>1</td>\n",
       "      <td>1</td>\n",
       "      <td>1</td>\n",
       "      <td>2</td>\n",
       "      <td>2</td>\n",
       "      <td>1</td>\n",
       "      <td>2021</td>\n",
       "      <td>21</td>\n",
       "      <td>1</td>\n",
       "    </tr>\n",
       "    <tr>\n",
       "      <th>14026</th>\n",
       "      <td>1</td>\n",
       "      <td>10506</td>\n",
       "      <td>10506</td>\n",
       "      <td>0</td>\n",
       "      <td>0</td>\n",
       "      <td>0</td>\n",
       "      <td>1</td>\n",
       "      <td>2</td>\n",
       "      <td>2</td>\n",
       "      <td>1</td>\n",
       "      <td>...</td>\n",
       "      <td>2</td>\n",
       "      <td>1</td>\n",
       "      <td>2</td>\n",
       "      <td>2</td>\n",
       "      <td>2</td>\n",
       "      <td>2</td>\n",
       "      <td>1</td>\n",
       "      <td>2021</td>\n",
       "      <td>60</td>\n",
       "      <td>0</td>\n",
       "    </tr>\n",
       "    <tr>\n",
       "      <th>14027</th>\n",
       "      <td>0</td>\n",
       "      <td>2182</td>\n",
       "      <td>196</td>\n",
       "      <td>1985</td>\n",
       "      <td>0</td>\n",
       "      <td>0</td>\n",
       "      <td>1</td>\n",
       "      <td>2</td>\n",
       "      <td>2</td>\n",
       "      <td>1</td>\n",
       "      <td>...</td>\n",
       "      <td>2</td>\n",
       "      <td>1</td>\n",
       "      <td>2</td>\n",
       "      <td>2</td>\n",
       "      <td>2</td>\n",
       "      <td>1</td>\n",
       "      <td>2</td>\n",
       "      <td>2021</td>\n",
       "      <td>22</td>\n",
       "      <td>0</td>\n",
       "    </tr>\n",
       "    <tr>\n",
       "      <th>14028</th>\n",
       "      <td>2</td>\n",
       "      <td>2330</td>\n",
       "      <td>2330</td>\n",
       "      <td>0</td>\n",
       "      <td>0</td>\n",
       "      <td>0</td>\n",
       "      <td>1</td>\n",
       "      <td>2</td>\n",
       "      <td>2</td>\n",
       "      <td>1</td>\n",
       "      <td>...</td>\n",
       "      <td>2</td>\n",
       "      <td>2</td>\n",
       "      <td>1</td>\n",
       "      <td>2</td>\n",
       "      <td>2</td>\n",
       "      <td>2</td>\n",
       "      <td>1</td>\n",
       "      <td>2021</td>\n",
       "      <td>91</td>\n",
       "      <td>0</td>\n",
       "    </tr>\n",
       "  </tbody>\n",
       "</table>\n",
       "<p>14029 rows × 59 columns</p>\n",
       "</div>"
      ],
      "text/plain": [
       "       des_tamano  tic1_2  tic1_3a  tic1_3b  tic1_3c  tic1_3d  tic2_1  \\\n",
       "0               2    3481        0     3481        0        0       1   \n",
       "1               0    1200      600      360      240        0       1   \n",
       "2               2    4761     4761        0        0        0       1   \n",
       "3               2   31598    31598        0        0        0       1   \n",
       "4               1  101277   101277        0        0        0       1   \n",
       "...           ...     ...      ...      ...      ...      ...     ...   \n",
       "14024           0   33388        0    33388        0        0       1   \n",
       "14025           0   26819    16359    10459        0        0       1   \n",
       "14026           1   10506    10506        0        0        0       1   \n",
       "14027           0    2182      196     1985        0        0       1   \n",
       "14028           2    2330     2330        0        0        0       1   \n",
       "\n",
       "       tic2_2_1a  tic2_2_1b  tic2_2_1c  ...  tic5_1d  tic5_1f  tic5_1h  \\\n",
       "0              2          2          1  ...        2        2        2   \n",
       "1              1          2          2  ...        2        2        1   \n",
       "2              2          2          1  ...        1        1        1   \n",
       "3              2          1          2  ...        2        1        2   \n",
       "4              2          2          1  ...        2        1        2   \n",
       "...          ...        ...        ...  ...      ...      ...      ...   \n",
       "14024          2          2          1  ...        1        1        1   \n",
       "14025          2          2          1  ...        2        1        1   \n",
       "14026          2          2          1  ...        2        1        2   \n",
       "14027          2          2          1  ...        2        1        2   \n",
       "14028          2          2          1  ...        2        2        1   \n",
       "\n",
       "       tic6_1  tic6_2a  tic6_2b  tic6_2c  AÃ±o  Total_Personal  Total_Espec  \n",
       "0           2        2        2        1  2016               2            0  \n",
       "1           2        2        2        1  2016               2            0  \n",
       "2           2        2        2        1  2016               8            0  \n",
       "3           2        2        2        1  2016               1            0  \n",
       "4           2        2        2        1  2016               3            0  \n",
       "...       ...      ...      ...      ...   ...             ...          ...  \n",
       "14024       2        2        1        2  2021               3            0  \n",
       "14025       1        2        2        1  2021              21            1  \n",
       "14026       2        2        2        1  2021              60            0  \n",
       "14027       2        2        1        2  2021              22            0  \n",
       "14028       2        2        2        1  2021              91            0  \n",
       "\n",
       "[14029 rows x 59 columns]"
      ]
     },
     "execution_count": 3,
     "metadata": {},
     "output_type": "execute_result"
    }
   ],
   "source": [
    "# Importamos un archivo csv a un DataFrame en pandas\n",
    "df = pd.read_csv('BDTICMODEL.csv', encoding='ISO-8859-1')\n",
    "df"
   ]
  },
  {
   "cell_type": "code",
   "execution_count": 4,
   "id": "0974c2d5",
   "metadata": {},
   "outputs": [
    {
     "name": "stdout",
     "output_type": "stream",
     "text": [
      "des_tamano        int64\n",
      "tic1_2            int64\n",
      "tic1_3a           int64\n",
      "tic1_3b           int64\n",
      "tic1_3c           int64\n",
      "tic1_3d           int64\n",
      "tic2_1            int64\n",
      "tic2_2_1a         int64\n",
      "tic2_2_1b         int64\n",
      "tic2_2_1c         int64\n",
      "tic2_3            int64\n",
      "tic2_6a           int64\n",
      "tic2_6b           int64\n",
      "tic2_6c           int64\n",
      "tic2_6d           int64\n",
      "tic2_6f           int64\n",
      "tic2_6g           int64\n",
      "tic2_6h           int64\n",
      "tic2_6i           int64\n",
      "tic2_6k           int64\n",
      "tic2_8            int64\n",
      "tic2_8_2b         int64\n",
      "tic2_8_2c         int64\n",
      "tic3_1            int64\n",
      "tic3_1_2b         int64\n",
      "tic3_1_2c         int64\n",
      "tic3_1_2d         int64\n",
      "tic3_1_2e         int64\n",
      "tic3_1_2f         int64\n",
      "tic3_2            int64\n",
      "tic4_1a           int64\n",
      "tic4_1b           int64\n",
      "tic4_1d           int64\n",
      "tic4_1e           int64\n",
      "tic4_2a           int64\n",
      "tic4_2b           int64\n",
      "tic4_2c           int64\n",
      "tic4_2d           int64\n",
      "tic4_2e           int64\n",
      "tic4_4a           int64\n",
      "tic4_4b           int64\n",
      "tic4_4c           int64\n",
      "tic4_4d           int64\n",
      "tic4_4e           int64\n",
      "tic4_4f           int64\n",
      "tic4_4g           int64\n",
      "tic4_4h           int64\n",
      "tic5_1a           int64\n",
      "tic5_1b           int64\n",
      "tic5_1d           int64\n",
      "tic5_1f           int64\n",
      "tic5_1h           int64\n",
      "tic6_1            int64\n",
      "tic6_2a           int64\n",
      "tic6_2b           int64\n",
      "tic6_2c           int64\n",
      "AÃ±o              int64\n",
      "Total_Personal    int64\n",
      "Total_Espec       int64\n",
      "dtype: object\n"
     ]
    }
   ],
   "source": [
    "print(df.dtypes)"
   ]
  },
  {
   "cell_type": "raw",
   "id": "fcbfd08e",
   "metadata": {},
   "source": [
    "# Trabajos únicamente con las variables categóricas y descartamos las numéricas\n",
    "\n",
    "# Lista de variables a eliminar\n",
    "variables_eliminar = ['des_tamano', 'tic1_2', 'tic1_3a', 'tic1_3b', 'tic1_3c', 'tic1_3d', 'tic4_1a', 'tic4_1b', 'tic4_1d', 'tic4_1e', 'Total_Personal', 'Total_Espec', 'Año']\n",
    "\n",
    "# Eliminar las variables del DataFrame\n",
    "df = df.drop(variables_eliminar, axis=1)"
   ]
  },
  {
   "cell_type": "code",
   "execution_count": 5,
   "id": "13cb5f8a",
   "metadata": {},
   "outputs": [
    {
     "data": {
      "text/html": [
       "<div>\n",
       "<style scoped>\n",
       "    .dataframe tbody tr th:only-of-type {\n",
       "        vertical-align: middle;\n",
       "    }\n",
       "\n",
       "    .dataframe tbody tr th {\n",
       "        vertical-align: top;\n",
       "    }\n",
       "\n",
       "    .dataframe thead th {\n",
       "        text-align: right;\n",
       "    }\n",
       "</style>\n",
       "<table border=\"1\" class=\"dataframe\">\n",
       "  <thead>\n",
       "    <tr style=\"text-align: right;\">\n",
       "      <th></th>\n",
       "      <th>des_tamano</th>\n",
       "      <th>tic1_2</th>\n",
       "      <th>tic1_3a</th>\n",
       "      <th>tic1_3b</th>\n",
       "      <th>tic1_3c</th>\n",
       "      <th>tic1_3d</th>\n",
       "      <th>tic2_1</th>\n",
       "      <th>tic2_2_1a</th>\n",
       "      <th>tic2_2_1b</th>\n",
       "      <th>tic2_2_1c</th>\n",
       "      <th>...</th>\n",
       "      <th>tic5_1d</th>\n",
       "      <th>tic5_1f</th>\n",
       "      <th>tic5_1h</th>\n",
       "      <th>tic6_1</th>\n",
       "      <th>tic6_2a</th>\n",
       "      <th>tic6_2b</th>\n",
       "      <th>tic6_2c</th>\n",
       "      <th>AÃ±o</th>\n",
       "      <th>Total_Personal</th>\n",
       "      <th>Total_Espec</th>\n",
       "    </tr>\n",
       "  </thead>\n",
       "  <tbody>\n",
       "    <tr>\n",
       "      <th>0</th>\n",
       "      <td>2</td>\n",
       "      <td>3481</td>\n",
       "      <td>0</td>\n",
       "      <td>3481</td>\n",
       "      <td>0</td>\n",
       "      <td>0</td>\n",
       "      <td>1</td>\n",
       "      <td>2</td>\n",
       "      <td>2</td>\n",
       "      <td>1</td>\n",
       "      <td>...</td>\n",
       "      <td>2</td>\n",
       "      <td>2</td>\n",
       "      <td>2</td>\n",
       "      <td>2</td>\n",
       "      <td>2</td>\n",
       "      <td>2</td>\n",
       "      <td>1</td>\n",
       "      <td>2016</td>\n",
       "      <td>2</td>\n",
       "      <td>0</td>\n",
       "    </tr>\n",
       "    <tr>\n",
       "      <th>1</th>\n",
       "      <td>0</td>\n",
       "      <td>1200</td>\n",
       "      <td>600</td>\n",
       "      <td>360</td>\n",
       "      <td>240</td>\n",
       "      <td>0</td>\n",
       "      <td>1</td>\n",
       "      <td>1</td>\n",
       "      <td>2</td>\n",
       "      <td>2</td>\n",
       "      <td>...</td>\n",
       "      <td>2</td>\n",
       "      <td>2</td>\n",
       "      <td>1</td>\n",
       "      <td>2</td>\n",
       "      <td>2</td>\n",
       "      <td>2</td>\n",
       "      <td>1</td>\n",
       "      <td>2016</td>\n",
       "      <td>2</td>\n",
       "      <td>0</td>\n",
       "    </tr>\n",
       "    <tr>\n",
       "      <th>2</th>\n",
       "      <td>2</td>\n",
       "      <td>4761</td>\n",
       "      <td>4761</td>\n",
       "      <td>0</td>\n",
       "      <td>0</td>\n",
       "      <td>0</td>\n",
       "      <td>1</td>\n",
       "      <td>2</td>\n",
       "      <td>2</td>\n",
       "      <td>1</td>\n",
       "      <td>...</td>\n",
       "      <td>1</td>\n",
       "      <td>1</td>\n",
       "      <td>1</td>\n",
       "      <td>2</td>\n",
       "      <td>2</td>\n",
       "      <td>2</td>\n",
       "      <td>1</td>\n",
       "      <td>2016</td>\n",
       "      <td>8</td>\n",
       "      <td>0</td>\n",
       "    </tr>\n",
       "    <tr>\n",
       "      <th>3</th>\n",
       "      <td>2</td>\n",
       "      <td>31598</td>\n",
       "      <td>31598</td>\n",
       "      <td>0</td>\n",
       "      <td>0</td>\n",
       "      <td>0</td>\n",
       "      <td>1</td>\n",
       "      <td>2</td>\n",
       "      <td>1</td>\n",
       "      <td>2</td>\n",
       "      <td>...</td>\n",
       "      <td>2</td>\n",
       "      <td>1</td>\n",
       "      <td>2</td>\n",
       "      <td>2</td>\n",
       "      <td>2</td>\n",
       "      <td>2</td>\n",
       "      <td>1</td>\n",
       "      <td>2016</td>\n",
       "      <td>1</td>\n",
       "      <td>0</td>\n",
       "    </tr>\n",
       "    <tr>\n",
       "      <th>4</th>\n",
       "      <td>1</td>\n",
       "      <td>101277</td>\n",
       "      <td>101277</td>\n",
       "      <td>0</td>\n",
       "      <td>0</td>\n",
       "      <td>0</td>\n",
       "      <td>1</td>\n",
       "      <td>2</td>\n",
       "      <td>2</td>\n",
       "      <td>1</td>\n",
       "      <td>...</td>\n",
       "      <td>2</td>\n",
       "      <td>1</td>\n",
       "      <td>2</td>\n",
       "      <td>2</td>\n",
       "      <td>2</td>\n",
       "      <td>2</td>\n",
       "      <td>1</td>\n",
       "      <td>2016</td>\n",
       "      <td>3</td>\n",
       "      <td>0</td>\n",
       "    </tr>\n",
       "  </tbody>\n",
       "</table>\n",
       "<p>5 rows × 59 columns</p>\n",
       "</div>"
      ],
      "text/plain": [
       "   des_tamano  tic1_2  tic1_3a  tic1_3b  tic1_3c  tic1_3d  tic2_1  tic2_2_1a  \\\n",
       "0           2    3481        0     3481        0        0       1          2   \n",
       "1           0    1200      600      360      240        0       1          1   \n",
       "2           2    4761     4761        0        0        0       1          2   \n",
       "3           2   31598    31598        0        0        0       1          2   \n",
       "4           1  101277   101277        0        0        0       1          2   \n",
       "\n",
       "   tic2_2_1b  tic2_2_1c  ...  tic5_1d  tic5_1f  tic5_1h  tic6_1  tic6_2a  \\\n",
       "0          2          1  ...        2        2        2       2        2   \n",
       "1          2          2  ...        2        2        1       2        2   \n",
       "2          2          1  ...        1        1        1       2        2   \n",
       "3          1          2  ...        2        1        2       2        2   \n",
       "4          2          1  ...        2        1        2       2        2   \n",
       "\n",
       "   tic6_2b  tic6_2c  AÃ±o  Total_Personal  Total_Espec  \n",
       "0        2        1  2016               2            0  \n",
       "1        2        1  2016               2            0  \n",
       "2        2        1  2016               8            0  \n",
       "3        2        1  2016               1            0  \n",
       "4        2        1  2016               3            0  \n",
       "\n",
       "[5 rows x 59 columns]"
      ]
     },
     "execution_count": 5,
     "metadata": {},
     "output_type": "execute_result"
    }
   ],
   "source": [
    "df.head()"
   ]
  },
  {
   "cell_type": "markdown",
   "id": "d9e5edd9",
   "metadata": {},
   "source": [
    "### Análisis de valores perdidos, nulos, etc"
   ]
  },
  {
   "cell_type": "code",
   "execution_count": 6,
   "id": "b3884a95",
   "metadata": {
    "scrolled": false
   },
   "outputs": [
    {
     "data": {
      "text/plain": [
       "des_tamano        0\n",
       "tic1_2            0\n",
       "tic1_3a           0\n",
       "tic1_3b           0\n",
       "tic1_3c           0\n",
       "tic1_3d           0\n",
       "tic2_1            0\n",
       "tic2_2_1a         0\n",
       "tic2_2_1b         0\n",
       "tic2_2_1c         0\n",
       "tic2_3            0\n",
       "tic2_6a           0\n",
       "tic2_6b           0\n",
       "tic2_6c           0\n",
       "tic2_6d           0\n",
       "tic2_6f           0\n",
       "tic2_6g           0\n",
       "tic2_6h           0\n",
       "tic2_6i           0\n",
       "tic2_6k           0\n",
       "tic2_8            0\n",
       "tic2_8_2b         0\n",
       "tic2_8_2c         0\n",
       "tic3_1            0\n",
       "tic3_1_2b         0\n",
       "tic3_1_2c         0\n",
       "tic3_1_2d         0\n",
       "tic3_1_2e         0\n",
       "tic3_1_2f         0\n",
       "tic3_2            0\n",
       "tic4_1a           0\n",
       "tic4_1b           0\n",
       "tic4_1d           0\n",
       "tic4_1e           0\n",
       "tic4_2a           0\n",
       "tic4_2b           0\n",
       "tic4_2c           0\n",
       "tic4_2d           0\n",
       "tic4_2e           0\n",
       "tic4_4a           0\n",
       "tic4_4b           0\n",
       "tic4_4c           0\n",
       "tic4_4d           0\n",
       "tic4_4e           0\n",
       "tic4_4f           0\n",
       "tic4_4g           0\n",
       "tic4_4h           0\n",
       "tic5_1a           0\n",
       "tic5_1b           0\n",
       "tic5_1d           0\n",
       "tic5_1f           0\n",
       "tic5_1h           0\n",
       "tic6_1            0\n",
       "tic6_2a           0\n",
       "tic6_2b           0\n",
       "tic6_2c           0\n",
       "AÃ±o              0\n",
       "Total_Personal    0\n",
       "Total_Espec       0\n",
       "dtype: int64"
      ]
     },
     "execution_count": 6,
     "metadata": {},
     "output_type": "execute_result"
    }
   ],
   "source": [
    "df.isnull().sum()"
   ]
  },
  {
   "cell_type": "code",
   "execution_count": 7,
   "id": "9f97a4a1",
   "metadata": {},
   "outputs": [],
   "source": [
    "# Eliminamos la variable tic2_1 ya que solo contiene un valor único que es \"1\"\n",
    "\n",
    "df = df.drop('tic2_1', axis=1)"
   ]
  },
  {
   "cell_type": "markdown",
   "id": "dacba16e",
   "metadata": {},
   "source": [
    "### Limpieza de valores perdidos, nulos, etc"
   ]
  },
  {
   "cell_type": "raw",
   "id": "a54b202c",
   "metadata": {
    "scrolled": true
   },
   "source": [
    "df.fillna(0, inplace=True)\n",
    "df.isnull().sum()"
   ]
  },
  {
   "cell_type": "markdown",
   "id": "fde2dbce",
   "metadata": {},
   "source": [
    "### Identificación  del tipo de Datos"
   ]
  },
  {
   "cell_type": "code",
   "execution_count": 8,
   "id": "16f837e1",
   "metadata": {
    "scrolled": false
   },
   "outputs": [
    {
     "name": "stdout",
     "output_type": "stream",
     "text": [
      "<class 'pandas.core.frame.DataFrame'>\n",
      "RangeIndex: 14029 entries, 0 to 14028\n",
      "Data columns (total 58 columns):\n",
      " #   Column          Non-Null Count  Dtype\n",
      "---  ------          --------------  -----\n",
      " 0   des_tamano      14029 non-null  int64\n",
      " 1   tic1_2          14029 non-null  int64\n",
      " 2   tic1_3a         14029 non-null  int64\n",
      " 3   tic1_3b         14029 non-null  int64\n",
      " 4   tic1_3c         14029 non-null  int64\n",
      " 5   tic1_3d         14029 non-null  int64\n",
      " 6   tic2_2_1a       14029 non-null  int64\n",
      " 7   tic2_2_1b       14029 non-null  int64\n",
      " 8   tic2_2_1c       14029 non-null  int64\n",
      " 9   tic2_3          14029 non-null  int64\n",
      " 10  tic2_6a         14029 non-null  int64\n",
      " 11  tic2_6b         14029 non-null  int64\n",
      " 12  tic2_6c         14029 non-null  int64\n",
      " 13  tic2_6d         14029 non-null  int64\n",
      " 14  tic2_6f         14029 non-null  int64\n",
      " 15  tic2_6g         14029 non-null  int64\n",
      " 16  tic2_6h         14029 non-null  int64\n",
      " 17  tic2_6i         14029 non-null  int64\n",
      " 18  tic2_6k         14029 non-null  int64\n",
      " 19  tic2_8          14029 non-null  int64\n",
      " 20  tic2_8_2b       14029 non-null  int64\n",
      " 21  tic2_8_2c       14029 non-null  int64\n",
      " 22  tic3_1          14029 non-null  int64\n",
      " 23  tic3_1_2b       14029 non-null  int64\n",
      " 24  tic3_1_2c       14029 non-null  int64\n",
      " 25  tic3_1_2d       14029 non-null  int64\n",
      " 26  tic3_1_2e       14029 non-null  int64\n",
      " 27  tic3_1_2f       14029 non-null  int64\n",
      " 28  tic3_2          14029 non-null  int64\n",
      " 29  tic4_1a         14029 non-null  int64\n",
      " 30  tic4_1b         14029 non-null  int64\n",
      " 31  tic4_1d         14029 non-null  int64\n",
      " 32  tic4_1e         14029 non-null  int64\n",
      " 33  tic4_2a         14029 non-null  int64\n",
      " 34  tic4_2b         14029 non-null  int64\n",
      " 35  tic4_2c         14029 non-null  int64\n",
      " 36  tic4_2d         14029 non-null  int64\n",
      " 37  tic4_2e         14029 non-null  int64\n",
      " 38  tic4_4a         14029 non-null  int64\n",
      " 39  tic4_4b         14029 non-null  int64\n",
      " 40  tic4_4c         14029 non-null  int64\n",
      " 41  tic4_4d         14029 non-null  int64\n",
      " 42  tic4_4e         14029 non-null  int64\n",
      " 43  tic4_4f         14029 non-null  int64\n",
      " 44  tic4_4g         14029 non-null  int64\n",
      " 45  tic4_4h         14029 non-null  int64\n",
      " 46  tic5_1a         14029 non-null  int64\n",
      " 47  tic5_1b         14029 non-null  int64\n",
      " 48  tic5_1d         14029 non-null  int64\n",
      " 49  tic5_1f         14029 non-null  int64\n",
      " 50  tic5_1h         14029 non-null  int64\n",
      " 51  tic6_1          14029 non-null  int64\n",
      " 52  tic6_2a         14029 non-null  int64\n",
      " 53  tic6_2b         14029 non-null  int64\n",
      " 54  tic6_2c         14029 non-null  int64\n",
      " 55  AÃ±o            14029 non-null  int64\n",
      " 56  Total_Personal  14029 non-null  int64\n",
      " 57  Total_Espec     14029 non-null  int64\n",
      "dtypes: int64(58)\n",
      "memory usage: 6.2 MB\n",
      "None\n"
     ]
    }
   ],
   "source": [
    "print(df.info())"
   ]
  },
  {
   "cell_type": "markdown",
   "id": "674c402d",
   "metadata": {},
   "source": [
    "### Identificación de valores únicos"
   ]
  },
  {
   "cell_type": "code",
   "execution_count": 9,
   "id": "1eed419c",
   "metadata": {},
   "outputs": [
    {
     "name": "stdout",
     "output_type": "stream",
     "text": [
      "Valores únicos para la columna 'des_tamano':\n",
      "[2 0 1]\n",
      "\n",
      "Valores únicos para la columna 'tic1_2':\n",
      "[ 3481  1200  4761 ... 33388 10506  2182]\n",
      "\n",
      "Valores únicos para la columna 'tic1_3a':\n",
      "[    0   600  4761 ...  1931 16359 10506]\n",
      "\n",
      "Valores únicos para la columna 'tic1_3b':\n",
      "[ 3481   360     0 ... 33388 10459  1985]\n",
      "\n",
      "Valores únicos para la columna 'tic1_3c':\n",
      "[    0   240   177 ...  9980  9280 17838]\n",
      "\n",
      "Valores únicos para la columna 'tic1_3d':\n",
      "[    0  2532   858 ... 14504 42277  2361]\n",
      "\n",
      "Valores únicos para la columna 'tic2_2_1a':\n",
      "[2 1]\n",
      "\n",
      "Valores únicos para la columna 'tic2_2_1b':\n",
      "[2 1]\n",
      "\n",
      "Valores únicos para la columna 'tic2_2_1c':\n",
      "[1 2]\n",
      "\n",
      "Valores únicos para la columna 'tic2_3':\n",
      "[1 2]\n",
      "\n",
      "Valores únicos para la columna 'tic2_6a':\n",
      "[1 2]\n",
      "\n",
      "Valores únicos para la columna 'tic2_6b':\n",
      "[1 2]\n",
      "\n",
      "Valores únicos para la columna 'tic2_6c':\n",
      "[2 1]\n",
      "\n",
      "Valores únicos para la columna 'tic2_6d':\n",
      "[2 1]\n",
      "\n",
      "Valores únicos para la columna 'tic2_6f':\n",
      "[2 1]\n",
      "\n",
      "Valores únicos para la columna 'tic2_6g':\n",
      "[2 1]\n",
      "\n",
      "Valores únicos para la columna 'tic2_6h':\n",
      "[2 1]\n",
      "\n",
      "Valores únicos para la columna 'tic2_6i':\n",
      "[2 1]\n",
      "\n",
      "Valores únicos para la columna 'tic2_6k':\n",
      "[2 1]\n",
      "\n",
      "Valores únicos para la columna 'tic2_8':\n",
      "[2 1]\n",
      "\n",
      "Valores únicos para la columna 'tic2_8_2b':\n",
      "[1 2]\n",
      "\n",
      "Valores únicos para la columna 'tic2_8_2c':\n",
      "[2 1]\n",
      "\n",
      "Valores únicos para la columna 'tic3_1':\n",
      "[2 1]\n",
      "\n",
      "Valores únicos para la columna 'tic3_1_2b':\n",
      "[2 1]\n",
      "\n",
      "Valores únicos para la columna 'tic3_1_2c':\n",
      "[2 1]\n",
      "\n",
      "Valores únicos para la columna 'tic3_1_2d':\n",
      "[2 1]\n",
      "\n",
      "Valores únicos para la columna 'tic3_1_2e':\n",
      "[2 1]\n",
      "\n",
      "Valores únicos para la columna 'tic3_1_2f':\n",
      "[2 1]\n",
      "\n",
      "Valores únicos para la columna 'tic3_2':\n",
      "[2 1]\n",
      "\n",
      "Valores únicos para la columna 'tic4_1a':\n",
      "[   4    7    1   36    0   10    6    3   13    5   12    8    2   15\n",
      "    9   25   14   16   11   18   22   23   20   19   17   28   21   62\n",
      "   32   30   26   40   69   35   31  165   45   50   24   38   46   52\n",
      "  120   70  213   42   48  110   29   44   74   34   57  147  100   79\n",
      "   43   53   51   60   80   65   95  101   96   41  161  200  160   78\n",
      "  119   72   37   55   47   88  225   49   27   56   64   94  337   84\n",
      "   85  260   39   33  149  286   54   82   76  126   63  151  113  128\n",
      "  108  250   73  150   97   61  164  182   87   90   86  178  285  140\n",
      "   93  133   75   67  305  179   66  132  105  320  252   92  156  189\n",
      "  134  130   58  485  195  157  194   98   68  111  464  210  722  141\n",
      "  115  170  190   91  145  350  148  331  300  340  146  185  203  540\n",
      "  142   59  400  215  167  196  472  269  155  667  470  125  188  162\n",
      "  460  480  229  650  180  144  265  308  169  129  104  173  127  211\n",
      "  230  166 1134  159  287  255  103  510  216  171  220 1233   89  118\n",
      "  290  298  222  109  450  131  293  217  224  123  593  247  372  451\n",
      "  988  295  346  500  193  122  354  273  434  398  360  432  461  415\n",
      "  240  244 1239  107  139  102  117 1278  313  198  175 1200  343  332\n",
      "   77 1775 1812  380  900  484  458  745 2200  191  223 1062  205  212\n",
      "  359  297  116  430  168 2421  728  275  718  751  992  691  392  727\n",
      "  520 3000  552  270 1216 1300 2222 1526 1275  506  234  912  700 1040\n",
      "  284  263  163  504  498  235  775 3010  799  408  241 3123  435 1004\n",
      " 1534 3864 2536 5466 1431 1113   99   71  209  417  136  114  336  734\n",
      "  153  176  197  137  186  106  555  296  187   81  468  567  135  264\n",
      "  560  248  112  712  143  605  550 1127  152  362  935  219  280  271\n",
      "  243  806  174  231  659  530  307  202  242  154  276  590  330  259\n",
      "  440  807  279  206  184  445  183  465  208  342  301  245 1100  511\n",
      "  660  420  237 1906  453  274  304  345  487  876 2678 1371 1932  483\n",
      "  614  542  635  782  658 2500 1438 1050 2366 2086  788  830 1500  233\n",
      "  292  370 1350  356 2000  600 1005 3778 2324 2738 1604 1000 3498 4694\n",
      "  576 1710   83  121  256  199  325  486  730  181  578  580  609  810\n",
      "  204  760 1281  236 1218 1400  251  868  253  750  462  192  704  395\n",
      "  509  289  288  795  249  375  425  665  505  378  218  124  310  363\n",
      "  364 1352 1887  491  422  328  753  410  852 3300 2259 2090  850 2140\n",
      "  874  657  525  653  382 1271  764  569  386 2357  385  282  381 1065\n",
      " 1460 1394 1800  303 2450  873  368 2691 2811 1758 3477 3369  864 4669\n",
      "  860  429 2005  490  361  352  172  970  859 2038  323 2942  201 1235\n",
      "  239 1590  991  454 2445 1900  654 2497  402  934 2400  802  671  735\n",
      " 3247 1915  138 1610  920  620  278 1308 3908  573  317 1104 1342 1855\n",
      " 3037  309  946  327  315 1263  438  393  339 3599  923  800  262  518\n",
      "  489 1327 2010  840  272  158 1781  257  277  675  495  283  570 1925\n",
      " 2522 1605  294  526  586  405  431 1015  344  585 1803  353 1034 2308\n",
      " 1384  302  369  611  566 1858  226 4032  647  455  407  790  338  335\n",
      " 3483  933 2012  177  389 1435  306 2024 1850  680  820  720  411  815\n",
      " 1012 2882 2030  636 2762  365 1302  531  441  214  669 1709  312  638\n",
      "  690  577 2238  227 1129  583  588  267 1341 3601 1306  708 3381  446]\n",
      "\n",
      "Valores únicos para la columna 'tic4_1b':\n",
      "[   0    1    3    4    8    2    6   20   22    5   10    9   38    7\n",
      "   23   27   14   11   13   12   18   16   25  100   15   17   31   37\n",
      "   50   24   30   19   33   29   36   21   45   39   32   28   73   53\n",
      "   35   41   40   61   43   68   34   97   48   65   80   47   49   57\n",
      "   59   63   93   89   70   96   82   88  111   64   42   60   66   91\n",
      "   85  102  127  152   26  120   78  114   67   99  400  150   79   51\n",
      "   58   94   95   54   72  115   46  200   83  123   87  143   90  180\n",
      "   62  165   74   69   56  244  309  163  130  197  377  128  262  101\n",
      "   92  172  125   77   71   98  183  210   52  144   55  401   84  300\n",
      "  122  158  135  118  233  170  177  112  380  296  220  362  103  168\n",
      "  138  280  250  422  246  109  218  173  131  160  140   81  179  107\n",
      "  677  239  910  420  108  129  159  113  230  189  891  376  950  146\n",
      "  121  298  224  202  303  926   75  192  347  553  217  396  800  320\n",
      "  329  406  287  360  654  124  228 1215  148 1123 1541 1692  500 2260\n",
      "  154  105   86   76  106  162  136  110  169  155  194  235  321  185\n",
      "  104  186  225  142  205  282  312  151  149  191  316  137  256  157\n",
      "  211  419  245  201  241  248  117  134  268  145  195  415  305  315\n",
      "  265  223  428  912  260  310  119  600 1300  382  456  720  184  430\n",
      "  350  249 1100  288  270 1183  208 1093 2493  805 1955   44  188  190\n",
      "  198  307  126  133  178  209  274  742  231  294  227  364  237  285\n",
      "  193  289  254  276  175  272  416  164  167  330  477  273  308  340\n",
      "  255  472  306  689  216  412  196  486  325 1451 1788 1504  773  986\n",
      " 2187  215  286  238  240  258  570  199  409  221  335  353  700  793\n",
      " 1220 2600 1328  324  717  279  440  900 1172  445  214  252  161  780\n",
      "  490  171  166  510 1585  229  612  116  556  257  450 1065  469  182\n",
      "  562 1154  242  814  370  786  232  358  313  485  395  156  263  174\n",
      "  810 1650  372  204  673  565 2500 1554  751  729  147 1214  212  269\n",
      "  554  937  774  520  293  253  901  455  853  451 1235  418  290  333\n",
      "  132  261 1993  284  488  898  816  544  222  530  829  369  345  366\n",
      "  429  378  819 2755 2242  645  460  563  743  606  989 1057  328  187\n",
      "  649  375  141  319  385  948  139  181  390  626  317 2047 4500  498\n",
      "  295  226  823 1000]\n",
      "\n",
      "Valores únicos para la columna 'tic4_1d':\n",
      "[   0    1    7    2    6   19    5    8    3   10   20   12    4   15\n",
      "   11   17   95   16   30   13   23   14   25   27   35   18   50   29\n",
      "   42   41   33   34   24   40    9   38   65   22   60   28   31   32\n",
      "   39   26   69   81  130   37   80   90   79   56   51   54   36   66\n",
      "   64   21   99   63   43   94   53   70  150   78   75   46   68  100\n",
      "  195  109   58   45   98  107  172   59  116  102  135   71  228  110\n",
      "  178   48   52  105   44  138  200  481  275  101   55  122   86  173\n",
      "  131   49  201  233  120  117  126  264  140  180  132  211  315  113\n",
      "   47  214  250  125   91  160  290   85  171  390  300   67  280   84\n",
      "   61  111  121   72   73  106  199  350  600  380  540  700  115  460\n",
      "  292  271  400  159   74   89  185 1600  112  104  480  287  190  270\n",
      " 1006  166  114  129   87   77  170   76  215  521  158   83  157  151\n",
      "  118  188  550  181  210  108  366  220  489  119  146  144  186  206\n",
      "  437  305  806  500  260  298  295  254  485 1200 1150  483 1400  221\n",
      "  320  774  278  162   88  136   57   92  155  187  137   93   62  161\n",
      "  123  177  204  240  189   96  868  277  103  226  341  230  345  153\n",
      "  360  258  464  430  349  183  450  163  405   82 2600  900  194  414\n",
      "  291  431  520  326  321  124  165  148  470  368  598  235  340  139\n",
      "  412 1420  564  225 1650  487  133  197  164  814  244  328  175  936\n",
      "  256  174  241  236  145  202 2500  301  325  257  650  252  147  128\n",
      "  176  426  989  515  134  285  980  318  261  224 1950  456  196  179\n",
      "  192  620  259 1392  655  416  753  463 1043  641  441  646  391  222\n",
      "  310  152  267  510  524   97  665  255  354  355 1332 2200  563  143\n",
      "  184  208  127  615  239 1272  465 1050  205  395  141  316]\n",
      "\n",
      "Valores únicos para la columna 'tic4_1e':\n",
      "[  0   1   2   3  11   4  12  16   8   5   6   7  13  10  18  38  24  65\n",
      "  19  50  15  47  40   9  20  25  21  59  98  30  73 130  56  17  27  70\n",
      "  14  22 194  99  45  85  23  48  51 100 132 300  35  36  79 105 156  28\n",
      "  81 114  52  43  32  64  87  84  29 800  60  69  44  80 120  34  53 240\n",
      " 115  97 221  58 125 108 295 140  41 146 166 150 127 147 350  86 600 141\n",
      " 110 134  33  57  89 450 174 106 324  66  77 284 700 380 197  90  37  26\n",
      " 135 241 159 260 200  68 112  78 122  74 220 103 164  54 109 348  61  49\n",
      " 388 270  67 216 320 191 649  72  42  39 310 500  62 205 160 224 560 158\n",
      "  95  63  82  46  55 190  75 163  31 225 107 213 850 315 180 119 136 145\n",
      " 204 139 129 137 550  91  83 170 215 138 520  92 237 211 210 442  76 131\n",
      " 111 142 195 480 234  71]\n",
      "\n",
      "Valores únicos para la columna 'tic4_2a':\n",
      "[2 1]\n",
      "\n",
      "Valores únicos para la columna 'tic4_2b':\n",
      "[1 2]\n",
      "\n",
      "Valores únicos para la columna 'tic4_2c':\n",
      "[2 1]\n",
      "\n",
      "Valores únicos para la columna 'tic4_2d':\n",
      "[2 1]\n",
      "\n",
      "Valores únicos para la columna 'tic4_2e':\n",
      "[2 1]\n",
      "\n",
      "Valores únicos para la columna 'tic4_4a':\n",
      "[2 1]\n",
      "\n"
     ]
    },
    {
     "name": "stdout",
     "output_type": "stream",
     "text": [
      "Valores únicos para la columna 'tic4_4b':\n",
      "[2 1]\n",
      "\n",
      "Valores únicos para la columna 'tic4_4c':\n",
      "[2 1]\n",
      "\n",
      "Valores únicos para la columna 'tic4_4d':\n",
      "[2 1]\n",
      "\n",
      "Valores únicos para la columna 'tic4_4e':\n",
      "[2 1]\n",
      "\n",
      "Valores únicos para la columna 'tic4_4f':\n",
      "[2 1]\n",
      "\n",
      "Valores únicos para la columna 'tic4_4g':\n",
      "[2 1]\n",
      "\n",
      "Valores únicos para la columna 'tic4_4h':\n",
      "[2 1]\n",
      "\n",
      "Valores únicos para la columna 'tic5_1a':\n",
      "[1 2]\n",
      "\n",
      "Valores únicos para la columna 'tic5_1b':\n",
      "[1 2]\n",
      "\n",
      "Valores únicos para la columna 'tic5_1d':\n",
      "[2 1]\n",
      "\n",
      "Valores únicos para la columna 'tic5_1f':\n",
      "[2 1]\n",
      "\n",
      "Valores únicos para la columna 'tic5_1h':\n",
      "[2 1]\n",
      "\n",
      "Valores únicos para la columna 'tic6_1':\n",
      "[2 1]\n",
      "\n",
      "Valores únicos para la columna 'tic6_2a':\n",
      "[2 1]\n",
      "\n",
      "Valores únicos para la columna 'tic6_2b':\n",
      "[2 1]\n",
      "\n",
      "Valores únicos para la columna 'tic6_2c':\n",
      "[1 2]\n",
      "\n",
      "Valores únicos para la columna 'AÃ±o':\n",
      "[2016 2017 2018 2019 2020 2021]\n",
      "\n",
      "Valores únicos para la columna 'Total_Personal':\n",
      "[   2    8    1 ... 6102  652 1326]\n",
      "\n",
      "Valores únicos para la columna 'Total_Espec':\n",
      "[   0   33    1    6    4    2    5   10    3    9   11    7   23   20\n",
      "    8   25   44   37   61   13   47   12   18   52   51  179   29   22\n",
      "   46  198  167   19  190   24   30   16   14   17   15  100   43   42\n",
      "   34   35   41  164   36   40   27   26  320  592   28   38   50   94\n",
      " 1159   32  120  135   92  200  291   31   45   54   21   39  102   69\n",
      "  105  140  206  217  144   82  202 1311   70  260   72  147   58   80\n",
      "   95   63   53   93   64  123  111  137  133  410   84  821  430 2583\n",
      "   60  145  118   57 1043  112   55   65 1213  792  172  233  122  280\n",
      "  773  397  215  182  199   87   74   89   49   67   85  187  229 3509\n",
      "  108   48  500  132  192   97  168  114   62  149   56  180   59  319\n",
      "  313  101  282  355   75   77   96  152]\n",
      "\n"
     ]
    }
   ],
   "source": [
    "for column in df.columns:\n",
    "    unique_values = df[column].unique()\n",
    "    print(f\"Valores únicos para la columna '{column}':\")\n",
    "    print(unique_values)\n",
    "    print()  # Línea en blanco para separar los resultados de cada columna"
   ]
  },
  {
   "cell_type": "markdown",
   "id": "ed35966f",
   "metadata": {},
   "source": [
    "### Resumen estadístico"
   ]
  },
  {
   "cell_type": "code",
   "execution_count": 10,
   "id": "35643246",
   "metadata": {},
   "outputs": [
    {
     "data": {
      "text/html": [
       "<div>\n",
       "<style scoped>\n",
       "    .dataframe tbody tr th:only-of-type {\n",
       "        vertical-align: middle;\n",
       "    }\n",
       "\n",
       "    .dataframe tbody tr th {\n",
       "        vertical-align: top;\n",
       "    }\n",
       "\n",
       "    .dataframe thead th {\n",
       "        text-align: right;\n",
       "    }\n",
       "</style>\n",
       "<table border=\"1\" class=\"dataframe\">\n",
       "  <thead>\n",
       "    <tr style=\"text-align: right;\">\n",
       "      <th></th>\n",
       "      <th>des_tamano</th>\n",
       "      <th>tic1_2</th>\n",
       "      <th>tic1_3a</th>\n",
       "      <th>tic1_3b</th>\n",
       "      <th>tic1_3c</th>\n",
       "      <th>tic1_3d</th>\n",
       "      <th>tic2_2_1a</th>\n",
       "      <th>tic2_2_1b</th>\n",
       "      <th>tic2_2_1c</th>\n",
       "      <th>tic2_3</th>\n",
       "      <th>...</th>\n",
       "      <th>tic5_1d</th>\n",
       "      <th>tic5_1f</th>\n",
       "      <th>tic5_1h</th>\n",
       "      <th>tic6_1</th>\n",
       "      <th>tic6_2a</th>\n",
       "      <th>tic6_2b</th>\n",
       "      <th>tic6_2c</th>\n",
       "      <th>AÃ±o</th>\n",
       "      <th>Total_Personal</th>\n",
       "      <th>Total_Espec</th>\n",
       "    </tr>\n",
       "  </thead>\n",
       "  <tbody>\n",
       "    <tr>\n",
       "      <th>count</th>\n",
       "      <td>14029.000000</td>\n",
       "      <td>1.402900e+04</td>\n",
       "      <td>1.402900e+04</td>\n",
       "      <td>1.402900e+04</td>\n",
       "      <td>1.402900e+04</td>\n",
       "      <td>1.402900e+04</td>\n",
       "      <td>14029.000000</td>\n",
       "      <td>14029.000000</td>\n",
       "      <td>14029.000000</td>\n",
       "      <td>14029.000000</td>\n",
       "      <td>...</td>\n",
       "      <td>14029.000000</td>\n",
       "      <td>14029.000000</td>\n",
       "      <td>14029.000000</td>\n",
       "      <td>14029.000000</td>\n",
       "      <td>14029.000000</td>\n",
       "      <td>14029.000000</td>\n",
       "      <td>14029.000000</td>\n",
       "      <td>14029.000000</td>\n",
       "      <td>14029.000000</td>\n",
       "      <td>14029.000000</td>\n",
       "    </tr>\n",
       "    <tr>\n",
       "      <th>mean</th>\n",
       "      <td>0.254045</td>\n",
       "      <td>2.874401e+05</td>\n",
       "      <td>9.553790e+04</td>\n",
       "      <td>1.148728e+05</td>\n",
       "      <td>1.383361e+04</td>\n",
       "      <td>6.319547e+04</td>\n",
       "      <td>1.870269</td>\n",
       "      <td>1.869698</td>\n",
       "      <td>1.101290</td>\n",
       "      <td>1.398674</td>\n",
       "      <td>...</td>\n",
       "      <td>1.694419</td>\n",
       "      <td>1.310856</td>\n",
       "      <td>1.488559</td>\n",
       "      <td>1.429610</td>\n",
       "      <td>1.760425</td>\n",
       "      <td>1.791218</td>\n",
       "      <td>1.427757</td>\n",
       "      <td>2018.415283</td>\n",
       "      <td>252.475658</td>\n",
       "      <td>4.715233</td>\n",
       "    </tr>\n",
       "    <tr>\n",
       "      <th>std</th>\n",
       "      <td>0.546823</td>\n",
       "      <td>4.469226e+06</td>\n",
       "      <td>1.221233e+06</td>\n",
       "      <td>3.147217e+06</td>\n",
       "      <td>1.439858e+05</td>\n",
       "      <td>2.186517e+06</td>\n",
       "      <td>0.336020</td>\n",
       "      <td>0.336647</td>\n",
       "      <td>0.301723</td>\n",
       "      <td>0.489643</td>\n",
       "      <td>...</td>\n",
       "      <td>0.460670</td>\n",
       "      <td>0.462861</td>\n",
       "      <td>0.499887</td>\n",
       "      <td>0.495038</td>\n",
       "      <td>0.426839</td>\n",
       "      <td>0.406453</td>\n",
       "      <td>0.494771</td>\n",
       "      <td>1.677153</td>\n",
       "      <td>611.648955</td>\n",
       "      <td>47.432295</td>\n",
       "    </tr>\n",
       "    <tr>\n",
       "      <th>min</th>\n",
       "      <td>0.000000</td>\n",
       "      <td>1.500000e+01</td>\n",
       "      <td>0.000000e+00</td>\n",
       "      <td>0.000000e+00</td>\n",
       "      <td>0.000000e+00</td>\n",
       "      <td>0.000000e+00</td>\n",
       "      <td>1.000000</td>\n",
       "      <td>1.000000</td>\n",
       "      <td>1.000000</td>\n",
       "      <td>1.000000</td>\n",
       "      <td>...</td>\n",
       "      <td>1.000000</td>\n",
       "      <td>1.000000</td>\n",
       "      <td>1.000000</td>\n",
       "      <td>1.000000</td>\n",
       "      <td>1.000000</td>\n",
       "      <td>1.000000</td>\n",
       "      <td>1.000000</td>\n",
       "      <td>2016.000000</td>\n",
       "      <td>0.000000</td>\n",
       "      <td>0.000000</td>\n",
       "    </tr>\n",
       "    <tr>\n",
       "      <th>25%</th>\n",
       "      <td>0.000000</td>\n",
       "      <td>4.143000e+03</td>\n",
       "      <td>2.200000e+03</td>\n",
       "      <td>0.000000e+00</td>\n",
       "      <td>0.000000e+00</td>\n",
       "      <td>0.000000e+00</td>\n",
       "      <td>2.000000</td>\n",
       "      <td>2.000000</td>\n",
       "      <td>1.000000</td>\n",
       "      <td>1.000000</td>\n",
       "      <td>...</td>\n",
       "      <td>1.000000</td>\n",
       "      <td>1.000000</td>\n",
       "      <td>1.000000</td>\n",
       "      <td>1.000000</td>\n",
       "      <td>2.000000</td>\n",
       "      <td>2.000000</td>\n",
       "      <td>1.000000</td>\n",
       "      <td>2017.000000</td>\n",
       "      <td>42.000000</td>\n",
       "      <td>0.000000</td>\n",
       "    </tr>\n",
       "    <tr>\n",
       "      <th>50%</th>\n",
       "      <td>0.000000</td>\n",
       "      <td>1.516300e+04</td>\n",
       "      <td>8.298000e+03</td>\n",
       "      <td>0.000000e+00</td>\n",
       "      <td>0.000000e+00</td>\n",
       "      <td>0.000000e+00</td>\n",
       "      <td>2.000000</td>\n",
       "      <td>2.000000</td>\n",
       "      <td>1.000000</td>\n",
       "      <td>1.000000</td>\n",
       "      <td>...</td>\n",
       "      <td>2.000000</td>\n",
       "      <td>1.000000</td>\n",
       "      <td>1.000000</td>\n",
       "      <td>1.000000</td>\n",
       "      <td>2.000000</td>\n",
       "      <td>2.000000</td>\n",
       "      <td>1.000000</td>\n",
       "      <td>2018.000000</td>\n",
       "      <td>92.000000</td>\n",
       "      <td>1.000000</td>\n",
       "    </tr>\n",
       "    <tr>\n",
       "      <th>75%</th>\n",
       "      <td>0.000000</td>\n",
       "      <td>6.401600e+04</td>\n",
       "      <td>3.036800e+04</td>\n",
       "      <td>0.000000e+00</td>\n",
       "      <td>0.000000e+00</td>\n",
       "      <td>0.000000e+00</td>\n",
       "      <td>2.000000</td>\n",
       "      <td>2.000000</td>\n",
       "      <td>1.000000</td>\n",
       "      <td>2.000000</td>\n",
       "      <td>...</td>\n",
       "      <td>2.000000</td>\n",
       "      <td>2.000000</td>\n",
       "      <td>2.000000</td>\n",
       "      <td>2.000000</td>\n",
       "      <td>2.000000</td>\n",
       "      <td>2.000000</td>\n",
       "      <td>2.000000</td>\n",
       "      <td>2020.000000</td>\n",
       "      <td>223.000000</td>\n",
       "      <td>3.000000</td>\n",
       "    </tr>\n",
       "    <tr>\n",
       "      <th>max</th>\n",
       "      <td>2.000000</td>\n",
       "      <td>3.202191e+08</td>\n",
       "      <td>7.905671e+07</td>\n",
       "      <td>3.170170e+08</td>\n",
       "      <td>6.683836e+06</td>\n",
       "      <td>2.419123e+08</td>\n",
       "      <td>2.000000</td>\n",
       "      <td>2.000000</td>\n",
       "      <td>2.000000</td>\n",
       "      <td>2.000000</td>\n",
       "      <td>...</td>\n",
       "      <td>2.000000</td>\n",
       "      <td>2.000000</td>\n",
       "      <td>2.000000</td>\n",
       "      <td>2.000000</td>\n",
       "      <td>2.000000</td>\n",
       "      <td>2.000000</td>\n",
       "      <td>2.000000</td>\n",
       "      <td>2021.000000</td>\n",
       "      <td>10634.000000</td>\n",
       "      <td>3509.000000</td>\n",
       "    </tr>\n",
       "  </tbody>\n",
       "</table>\n",
       "<p>8 rows × 58 columns</p>\n",
       "</div>"
      ],
      "text/plain": [
       "         des_tamano        tic1_2       tic1_3a       tic1_3b       tic1_3c  \\\n",
       "count  14029.000000  1.402900e+04  1.402900e+04  1.402900e+04  1.402900e+04   \n",
       "mean       0.254045  2.874401e+05  9.553790e+04  1.148728e+05  1.383361e+04   \n",
       "std        0.546823  4.469226e+06  1.221233e+06  3.147217e+06  1.439858e+05   \n",
       "min        0.000000  1.500000e+01  0.000000e+00  0.000000e+00  0.000000e+00   \n",
       "25%        0.000000  4.143000e+03  2.200000e+03  0.000000e+00  0.000000e+00   \n",
       "50%        0.000000  1.516300e+04  8.298000e+03  0.000000e+00  0.000000e+00   \n",
       "75%        0.000000  6.401600e+04  3.036800e+04  0.000000e+00  0.000000e+00   \n",
       "max        2.000000  3.202191e+08  7.905671e+07  3.170170e+08  6.683836e+06   \n",
       "\n",
       "            tic1_3d     tic2_2_1a     tic2_2_1b     tic2_2_1c        tic2_3  \\\n",
       "count  1.402900e+04  14029.000000  14029.000000  14029.000000  14029.000000   \n",
       "mean   6.319547e+04      1.870269      1.869698      1.101290      1.398674   \n",
       "std    2.186517e+06      0.336020      0.336647      0.301723      0.489643   \n",
       "min    0.000000e+00      1.000000      1.000000      1.000000      1.000000   \n",
       "25%    0.000000e+00      2.000000      2.000000      1.000000      1.000000   \n",
       "50%    0.000000e+00      2.000000      2.000000      1.000000      1.000000   \n",
       "75%    0.000000e+00      2.000000      2.000000      1.000000      2.000000   \n",
       "max    2.419123e+08      2.000000      2.000000      2.000000      2.000000   \n",
       "\n",
       "       ...       tic5_1d       tic5_1f       tic5_1h        tic6_1  \\\n",
       "count  ...  14029.000000  14029.000000  14029.000000  14029.000000   \n",
       "mean   ...      1.694419      1.310856      1.488559      1.429610   \n",
       "std    ...      0.460670      0.462861      0.499887      0.495038   \n",
       "min    ...      1.000000      1.000000      1.000000      1.000000   \n",
       "25%    ...      1.000000      1.000000      1.000000      1.000000   \n",
       "50%    ...      2.000000      1.000000      1.000000      1.000000   \n",
       "75%    ...      2.000000      2.000000      2.000000      2.000000   \n",
       "max    ...      2.000000      2.000000      2.000000      2.000000   \n",
       "\n",
       "            tic6_2a       tic6_2b       tic6_2c          AÃ±o  Total_Personal  \\\n",
       "count  14029.000000  14029.000000  14029.000000  14029.000000    14029.000000   \n",
       "mean       1.760425      1.791218      1.427757   2018.415283      252.475658   \n",
       "std        0.426839      0.406453      0.494771      1.677153      611.648955   \n",
       "min        1.000000      1.000000      1.000000   2016.000000        0.000000   \n",
       "25%        2.000000      2.000000      1.000000   2017.000000       42.000000   \n",
       "50%        2.000000      2.000000      1.000000   2018.000000       92.000000   \n",
       "75%        2.000000      2.000000      2.000000   2020.000000      223.000000   \n",
       "max        2.000000      2.000000      2.000000   2021.000000    10634.000000   \n",
       "\n",
       "        Total_Espec  \n",
       "count  14029.000000  \n",
       "mean       4.715233  \n",
       "std       47.432295  \n",
       "min        0.000000  \n",
       "25%        0.000000  \n",
       "50%        1.000000  \n",
       "75%        3.000000  \n",
       "max     3509.000000  \n",
       "\n",
       "[8 rows x 58 columns]"
      ]
     },
     "execution_count": 10,
     "metadata": {},
     "output_type": "execute_result"
    }
   ],
   "source": [
    "df.describe()"
   ]
  },
  {
   "cell_type": "markdown",
   "id": "684f5b00",
   "metadata": {},
   "source": [
    "# ------------------------------------------------------------"
   ]
  },
  {
   "cell_type": "code",
   "execution_count": null,
   "id": "acfbfb9a",
   "metadata": {},
   "outputs": [],
   "source": []
  },
  {
   "cell_type": "raw",
   "id": "7a6efa5c",
   "metadata": {},
   "source": [
    "from sklearn.ensemble import RandomForestRegressor\n",
    "from sklearn.metrics import mean_absolute_error\n",
    "\n",
    "# Definir X y y\n",
    "X = df.iloc[:, 1:]\n",
    "y = df.iloc[:, 0]"
   ]
  },
  {
   "cell_type": "raw",
   "id": "33f30ab3",
   "metadata": {},
   "source": [
    "from sklearn.ensemble import RandomForestRegressor\n",
    "\n",
    "rf = RandomForestRegressor(n_estimators=100)\n",
    "# cambiar valores de acuerdo al número de columnas en el dataset\n",
    "rf.fit(X, y)"
   ]
  },
  {
   "cell_type": "raw",
   "id": "f1e9ee42",
   "metadata": {},
   "source": [
    "# MSE: mean squared error, MAE: mean absoulte error, RMSE: Root mean square error\n",
    "y_model_rf = rf.predict(X)\n",
    "\n",
    "((y - y_model_rf)**2).mean(), (np.abs(y - y_model_rf)).mean(), np.sqrt(((y - y_model_rf)**2).mean())"
   ]
  },
  {
   "cell_type": "raw",
   "id": "cd86b77a",
   "metadata": {},
   "source": [
    "# MSE: mean squared error, MAE: mean absoulte error, RMSE: Root mean square error\n",
    "y_model_rf = rf.predict(X)\n",
    "\n",
    "((y - y_model_rf)**2).mean(), (np.abs(y - y_model_rf)).mean(), np.sqrt(((y - y_model_rf)**2).mean())"
   ]
  },
  {
   "cell_type": "code",
   "execution_count": null,
   "id": "97108fb7",
   "metadata": {},
   "outputs": [],
   "source": []
  },
  {
   "cell_type": "markdown",
   "id": "a580912b",
   "metadata": {},
   "source": [
    "# ----------------------------------------------------"
   ]
  },
  {
   "cell_type": "code",
   "execution_count": 11,
   "id": "a790004c",
   "metadata": {},
   "outputs": [
    {
     "name": "stdout",
     "output_type": "stream",
     "text": [
      "Requirement already satisfied: scikit-learn in c:\\users\\home\\anaconda3\\lib\\site-packages (1.0.2)\n",
      "Requirement already satisfied: numpy>=1.14.6 in c:\\users\\home\\anaconda3\\lib\\site-packages (from scikit-learn) (1.22.4)\n",
      "Requirement already satisfied: scipy>=1.1.0 in c:\\users\\home\\anaconda3\\lib\\site-packages (from scikit-learn) (1.10.1)\n",
      "Requirement already satisfied: joblib>=0.11 in c:\\users\\home\\anaconda3\\lib\\site-packages (from scikit-learn) (1.2.0)\n",
      "Requirement already satisfied: threadpoolctl>=2.0.0 in c:\\users\\home\\anaconda3\\lib\\site-packages (from scikit-learn) (3.1.0)\n",
      "Note: you may need to restart the kernel to use updated packages.\n"
     ]
    }
   ],
   "source": [
    "pip install scikit-learn"
   ]
  },
  {
   "cell_type": "code",
   "execution_count": 12,
   "id": "8e21059f",
   "metadata": {},
   "outputs": [],
   "source": [
    "# The input and output features preparation"
   ]
  },
  {
   "cell_type": "code",
   "execution_count": 13,
   "id": "4c2f033a",
   "metadata": {},
   "outputs": [],
   "source": [
    "# The input features\n",
    "X = df.drop(['tic1_2'], axis=1)"
   ]
  },
  {
   "cell_type": "code",
   "execution_count": 14,
   "id": "3044eeeb",
   "metadata": {},
   "outputs": [
    {
     "data": {
      "text/plain": [
       "(14029, 57)"
      ]
     },
     "execution_count": 14,
     "metadata": {},
     "output_type": "execute_result"
    }
   ],
   "source": [
    "X.shape"
   ]
  },
  {
   "cell_type": "code",
   "execution_count": 15,
   "id": "b450ee00",
   "metadata": {},
   "outputs": [
    {
     "name": "stdout",
     "output_type": "stream",
     "text": [
      "   des_tamano  tic1_3a  tic1_3b  tic1_3c  tic1_3d  tic2_2_1a  tic2_2_1b  \\\n",
      "0           2        0     3481        0        0          2          2   \n",
      "1           0      600      360      240        0          1          2   \n",
      "2           2     4761        0        0        0          2          2   \n",
      "3           2    31598        0        0        0          2          1   \n",
      "4           1   101277        0        0        0          2          2   \n",
      "5           0      850        0        0        0          2          2   \n",
      "6           2     2000        0        0        0          2          2   \n",
      "7           0     8942        0        0        0          2          2   \n",
      "8           2     6071        0        0        0          2          1   \n",
      "9           0     6772        0        0        0          2          2   \n",
      "\n",
      "   tic2_2_1c  tic2_3  tic2_6a  ...  tic5_1d  tic5_1f  tic5_1h  tic6_1  \\\n",
      "0          1       1        1  ...        2        2        2       2   \n",
      "1          2       2        1  ...        2        2        1       2   \n",
      "2          1       2        1  ...        1        1        1       2   \n",
      "3          2       2        1  ...        2        1        2       2   \n",
      "4          1       2        1  ...        2        1        2       2   \n",
      "5          1       1        1  ...        2        2        2       2   \n",
      "6          1       2        1  ...        2        2        1       2   \n",
      "7          1       1        1  ...        2        2        2       2   \n",
      "8          2       2        1  ...        2        2        2       2   \n",
      "9          1       1        1  ...        2        2        1       2   \n",
      "\n",
      "   tic6_2a  tic6_2b  tic6_2c  AÃ±o  Total_Personal  Total_Espec  \n",
      "0        2        2        1  2016               2            0  \n",
      "1        2        2        1  2016               2            0  \n",
      "2        2        2        1  2016               8            0  \n",
      "3        2        2        1  2016               1            0  \n",
      "4        2        2        1  2016               3            0  \n",
      "5        2        2        1  2016               1            0  \n",
      "6        2        2        1  2016              15            0  \n",
      "7        2        2        1  2016              10            0  \n",
      "8        2        2        1  2016               1            0  \n",
      "9        2        2        1  2016               5            0  \n",
      "\n",
      "[10 rows x 57 columns]\n"
     ]
    }
   ],
   "source": [
    "print(X[:10])"
   ]
  },
  {
   "cell_type": "code",
   "execution_count": 16,
   "id": "8350a06a",
   "metadata": {},
   "outputs": [],
   "source": [
    "import pandas as pd\n",
    "from sklearn.model_selection import train_test_split\n",
    "\n",
    "# Supongamos que tienes un DataFrame llamado 'df' con las columnas 'tic1_2' y otras características\n",
    "# Elimina la columna 'tic1_2' de 'df' y asígnalo a 'X'\n",
    "X = df.drop('tic1_2', axis=1)\n",
    "\n",
    "# Asigna la columna 'tic1_2' a 'y'\n",
    "y = df['tic1_2']\n",
    "\n",
    "# Dividir el conjunto de datos en entrenamiento y prueba\n",
    "X_train, X_test, y_train, y_test = train_test_split(X, y, test_size=0.2)"
   ]
  },
  {
   "cell_type": "code",
   "execution_count": 17,
   "id": "3312b82f",
   "metadata": {},
   "outputs": [
    {
     "name": "stdout",
     "output_type": "stream",
     "text": [
      "(11223, 57) (2806, 57) (11223,) (2806,)\n"
     ]
    }
   ],
   "source": [
    "print(X_train.shape, X_test.shape, y_train.shape, y_test.shape)"
   ]
  },
  {
   "cell_type": "code",
   "execution_count": 18,
   "id": "3faf8deb",
   "metadata": {},
   "outputs": [],
   "source": [
    "# Random Forest Model\n",
    "from sklearn.ensemble import RandomForestRegressor"
   ]
  },
  {
   "cell_type": "code",
   "execution_count": 19,
   "id": "c9d3a32e",
   "metadata": {},
   "outputs": [],
   "source": [
    "# Instantiation of the model\n",
    "model = RandomForestRegressor(n_estimators = 30, random_state = 30)"
   ]
  },
  {
   "cell_type": "code",
   "execution_count": 20,
   "id": "465a1ced",
   "metadata": {},
   "outputs": [],
   "source": [
    "#Fitting the model \n",
    "tic1_2_rf = model.fit(X_train, y_train)"
   ]
  },
  {
   "cell_type": "code",
   "execution_count": 21,
   "id": "84166128",
   "metadata": {},
   "outputs": [],
   "source": [
    "#Training model evaluation"
   ]
  },
  {
   "cell_type": "code",
   "execution_count": 22,
   "id": "9110241b",
   "metadata": {},
   "outputs": [],
   "source": [
    "from sklearn.metrics import mean_absolute_error, mean_squared_error, explained_variance_score, r2_score"
   ]
  },
  {
   "cell_type": "code",
   "execution_count": 23,
   "id": "f230703d",
   "metadata": {},
   "outputs": [
    {
     "name": "stdout",
     "output_type": "stream",
     "text": [
      "The training r_sq is: 0.93\n"
     ]
    }
   ],
   "source": [
    "# The training r_sq\n",
    "print('The training r_sq is: %.2f'% tic1_2_rf.score(X_train, y_train))"
   ]
  },
  {
   "cell_type": "code",
   "execution_count": 24,
   "id": "e3df0f87",
   "metadata": {},
   "outputs": [],
   "source": [
    "# Prediction on the training dataset\n",
    "ytrain_pred = tic1_2_rf.predict(X_train)"
   ]
  },
  {
   "cell_type": "code",
   "execution_count": 25,
   "id": "171c11ee",
   "metadata": {},
   "outputs": [
    {
     "name": "stdout",
     "output_type": "stream",
     "text": [
      "The MAE is: 36653.85\n"
     ]
    }
   ],
   "source": [
    "# The MAE\n",
    "print ('The MAE is: %.2f'% mean_absolute_error(y_train, ytrain_pred))"
   ]
  },
  {
   "cell_type": "code",
   "execution_count": 26,
   "id": "71246deb",
   "metadata": {},
   "outputs": [
    {
     "name": "stdout",
     "output_type": "stream",
     "text": [
      "The MSE is: 1640373060744.65\n"
     ]
    }
   ],
   "source": [
    "# The MSE\n",
    "print('The MSE is: %.2f'% mean_squared_error(y_train, ytrain_pred))"
   ]
  },
  {
   "cell_type": "code",
   "execution_count": 27,
   "id": "5d0f1614",
   "metadata": {},
   "outputs": [
    {
     "name": "stdout",
     "output_type": "stream",
     "text": [
      "The RMSE is: 1280770.49\n"
     ]
    }
   ],
   "source": [
    "#The RMSE \n",
    "import numpy as np\n",
    "print('The RMSE is: %.2f'% np.sqrt(mean_squared_error(y_train, ytrain_pred)))"
   ]
  },
  {
   "cell_type": "code",
   "execution_count": 28,
   "id": "2e573deb",
   "metadata": {},
   "outputs": [
    {
     "name": "stdout",
     "output_type": "stream",
     "text": [
      "The EVS is: 0.93\n"
     ]
    }
   ],
   "source": [
    "# The EVS\n",
    "print('The EVS is: %.2f'% explained_variance_score(y_train, ytrain_pred))"
   ]
  },
  {
   "cell_type": "code",
   "execution_count": 29,
   "id": "a2a54469",
   "metadata": {},
   "outputs": [],
   "source": [
    "# Prediction on the testing data\n",
    "ytest_pred = tic1_2_rf.predict(X_test)"
   ]
  },
  {
   "cell_type": "code",
   "execution_count": 30,
   "id": "0b4deead",
   "metadata": {},
   "outputs": [
    {
     "name": "stdout",
     "output_type": "stream",
     "text": [
      "[ 24663.33333333    380.93333333   8977.83333333  53402.83333333\n",
      "   9019.43333333   5731.96666667 157332.8         95853.93333333\n",
      "  28504.3          2895.83333333]\n"
     ]
    }
   ],
   "source": [
    "print(ytest_pred[:10])"
   ]
  },
  {
   "cell_type": "code",
   "execution_count": 31,
   "id": "6be47ac6",
   "metadata": {},
   "outputs": [
    {
     "name": "stdout",
     "output_type": "stream",
     "text": [
      "The testing r_sq is: 0.78\n"
     ]
    }
   ],
   "source": [
    "# The testing coef. of determination\n",
    "print('The testing r_sq is: %.2f'% r2_score(y_test, ytest_pred))"
   ]
  },
  {
   "cell_type": "code",
   "execution_count": 32,
   "id": "32ed0545",
   "metadata": {},
   "outputs": [
    {
     "name": "stdout",
     "output_type": "stream",
     "text": [
      "The testing r_sq is: 0.78\n"
     ]
    }
   ],
   "source": [
    "# Or\n",
    "print (\"The testing r_sq is: %.2f\"% tic1_2_rf.score(X_test, y_test))"
   ]
  },
  {
   "cell_type": "code",
   "execution_count": 33,
   "id": "5b85dae0",
   "metadata": {},
   "outputs": [
    {
     "name": "stdout",
     "output_type": "stream",
     "text": [
      "The MAE is: 51506.38\n"
     ]
    }
   ],
   "source": [
    "# The metrics\n",
    "print ('The MAE is: %.2f'% mean_absolute_error(y_test, ytest_pred))"
   ]
  },
  {
   "cell_type": "code",
   "execution_count": 34,
   "id": "cf330d1d",
   "metadata": {},
   "outputs": [
    {
     "name": "stdout",
     "output_type": "stream",
     "text": [
      "The MSE is: 724379832241.16\n"
     ]
    }
   ],
   "source": [
    "# The MSE\n",
    "print('The MSE is: %.2f'% mean_squared_error(y_test, ytest_pred))"
   ]
  },
  {
   "cell_type": "code",
   "execution_count": 35,
   "id": "4b416504",
   "metadata": {},
   "outputs": [
    {
     "name": "stdout",
     "output_type": "stream",
     "text": [
      "The RMSE: 851105.0653363285\n"
     ]
    }
   ],
   "source": [
    "# The RMSE\n",
    "print('The RMSE:', np.sqrt(mean_squared_error(y_test, ytest_pred)))"
   ]
  },
  {
   "cell_type": "code",
   "execution_count": 36,
   "id": "05711769",
   "metadata": {},
   "outputs": [
    {
     "name": "stdout",
     "output_type": "stream",
     "text": [
      "The EVS is: 0.78\n"
     ]
    }
   ],
   "source": [
    "# The EVS\n",
    "print('The EVS is: %.2f'% explained_variance_score(y_test, ytest_pred))"
   ]
  },
  {
   "cell_type": "code",
   "execution_count": 42,
   "id": "96527f2d",
   "metadata": {},
   "outputs": [
    {
     "data": {
      "image/png": "[encoded data removed]",
      "text/plain": [
       "<Figure size 720x432 with 1 Axes>"
      ]
     },
     "metadata": {
      "needs_background": "light"
     },
     "output_type": "display_data"
    }
   ],
   "source": [
    "import matplotlib.pyplot as plt\n",
    "\n",
    "# Ajustando los límites y parámetros\n",
    "plt.rcParams['figure.figsize'] = (10, 6)\n",
    "x_ax = range(len(X_test))\n",
    "\n",
    "# Graficando\n",
    "plt.plot(x_ax, y_test, label='Observado', color='k', linestyle='-')\n",
    "plt.plot(x_ax, ytest_pred, label='Predicho', color='yellow', linestyle='--')\n",
    "plt.ylabel('Implementación Empresarial')\n",
    "plt.xlabel('Datos de prueba')\n",
    "plt.legend(bbox_to_anchor=(0.5, -0.2), loc='lower center', ncol=2, frameon=False)\n",
    "plt.show()\n"
   ]
  },
  {
   "cell_type": "code",
   "execution_count": 40,
   "id": "bbdc0643",
   "metadata": {},
   "outputs": [
    {
     "data": {
      "image/png": "[encoded data removed]",
      "text/plain": [
       "<Figure size 720x432 with 1 Axes>"
      ]
     },
     "metadata": {
      "needs_background": "light"
     },
     "output_type": "display_data"
    }
   ],
   "source": [
    "# Plotting the observed and predicted data\n",
    "import matplotlib.pyplot as plt\n",
    "\n",
    "#Setting the boundaries and parameters\n",
    "plt.rcParams['figure.figsize'] = (10,6)\n",
    "x_ax = range(len(X_test))\n",
    "#Plotting\n",
    "plt.plot(x_ax, y_test, label = 'Observed', color = 'k', linestyle = '-')\n",
    "plt.plot(x_ax, ytest_pred, label = 'Predicted', color = 'yellow', linestyle = '--')\n",
    "plt.ylabel('Implementación Empresarial')\n",
    "plt.xlabel('Testing data')\n",
    "plt.legend(bbox_to_anchor = (0.5, -0.2), loc = 'lower center', ncol= 2, frameon = False)\n",
    "plt.show()"
   ]
  },
  {
   "cell_type": "code",
   "execution_count": 76,
   "id": "73d31a03",
   "metadata": {},
   "outputs": [],
   "source": [
    "# Plotting the prediction errors and residuals using yellowbrick"
   ]
  },
  {
   "cell_type": "code",
   "execution_count": 77,
   "id": "a0ba7770",
   "metadata": {},
   "outputs": [
    {
     "name": "stdout",
     "output_type": "stream",
     "text": [
      "Requirement already satisfied: yellowbrick in c:\\users\\alejandro reyes\\anaconda3\\lib\\site-packages (1.5)\n",
      "Requirement already satisfied: matplotlib!=3.0.0,>=2.0.2 in c:\\users\\alejandro reyes\\anaconda3\\lib\\site-packages (from yellowbrick) (3.5.1)\n",
      "Requirement already satisfied: scipy>=1.0.0 in c:\\users\\alejandro reyes\\anaconda3\\lib\\site-packages (from yellowbrick) (1.7.3)\n",
      "Requirement already satisfied: scikit-learn>=1.0.0 in c:\\users\\alejandro reyes\\anaconda3\\lib\\site-packages (from yellowbrick) (1.0.2)\n",
      "Requirement already satisfied: numpy>=1.16.0 in c:\\users\\alejandro reyes\\anaconda3\\lib\\site-packages (from yellowbrick) (1.22.4)\n",
      "Requirement already satisfied: cycler>=0.10.0 in c:\\users\\alejandro reyes\\anaconda3\\lib\\site-packages (from yellowbrick) (0.11.0)\n",
      "Requirement already satisfied: fonttools>=4.22.0 in c:\\users\\alejandro reyes\\anaconda3\\lib\\site-packages (from matplotlib!=3.0.0,>=2.0.2->yellowbrick) (4.25.0)\n",
      "Requirement already satisfied: kiwisolver>=1.0.1 in c:\\users\\alejandro reyes\\anaconda3\\lib\\site-packages (from matplotlib!=3.0.0,>=2.0.2->yellowbrick) (1.3.2)\n",
      "Requirement already satisfied: packaging>=20.0 in c:\\users\\alejandro reyes\\anaconda3\\lib\\site-packages (from matplotlib!=3.0.0,>=2.0.2->yellowbrick) (21.3)\n",
      "Requirement already satisfied: pillow>=6.2.0 in c:\\users\\alejandro reyes\\anaconda3\\lib\\site-packages (from matplotlib!=3.0.0,>=2.0.2->yellowbrick) (9.5.0)\n",
      "Requirement already satisfied: pyparsing>=2.2.1 in c:\\users\\alejandro reyes\\anaconda3\\lib\\site-packages (from matplotlib!=3.0.0,>=2.0.2->yellowbrick) (3.0.4)\n",
      "Requirement already satisfied: python-dateutil>=2.7 in c:\\users\\alejandro reyes\\anaconda3\\lib\\site-packages (from matplotlib!=3.0.0,>=2.0.2->yellowbrick) (2.8.2)\n",
      "Requirement already satisfied: joblib>=0.11 in c:\\users\\alejandro reyes\\anaconda3\\lib\\site-packages (from scikit-learn>=1.0.0->yellowbrick) (1.1.0)\n",
      "Requirement already satisfied: threadpoolctl>=2.0.0 in c:\\users\\alejandro reyes\\anaconda3\\lib\\site-packages (from scikit-learn>=1.0.0->yellowbrick) (2.2.0)\n",
      "Requirement already satisfied: six>=1.5 in c:\\users\\alejandro reyes\\anaconda3\\lib\\site-packages (from python-dateutil>=2.7->matplotlib!=3.0.0,>=2.0.2->yellowbrick) (1.16.0)\n",
      "Note: you may need to restart the kernel to use updated packages.\n"
     ]
    },
    {
     "name": "stderr",
     "output_type": "stream",
     "text": [
      "WARNING: Ignoring invalid distribution -illow (c:\\users\\alejandro reyes\\anaconda3\\lib\\site-packages)\n",
      "WARNING: Ignoring invalid distribution -illow (c:\\users\\alejandro reyes\\anaconda3\\lib\\site-packages)\n"
     ]
    }
   ],
   "source": [
    "pip install yellowbrick"
   ]
  },
  {
   "cell_type": "code",
   "execution_count": 78,
   "id": "1676c7f8",
   "metadata": {},
   "outputs": [
    {
     "name": "stderr",
     "output_type": "stream",
     "text": [
      "C:\\Users\\Alejandro Reyes\\anaconda3\\lib\\site-packages\\sklearn\\base.py:450: UserWarning: X does not have valid feature names, but RandomForestRegressor was fitted with feature names\n",
      "  warnings.warn(\n"
     ]
    },
    {
     "data": {
      "image/png": "[encoded data removed]",
      "text/plain": [
       "<Figure size 576x396 with 1 Axes>"
      ]
     },
     "metadata": {},
     "output_type": "display_data"
    },
    {
     "data": {
      "text/plain": [
       "<AxesSubplot:title={'center':'Prediction Error for RandomForestRegressor'}, xlabel='$y$', ylabel='$\\\\hat{y}$'>"
      ]
     },
     "execution_count": 78,
     "metadata": {},
     "output_type": "execute_result"
    }
   ],
   "source": [
    "from yellowbrick.regressor import PredictionError\n",
    "visualizer = PredictionError(tic1_2_rf)\n",
    "visualizer.fit(X_train, y_train)\n",
    "visualizer.score(X_test, y_test)\n",
    "visualizer.poof()"
   ]
  },
  {
   "cell_type": "code",
   "execution_count": 79,
   "id": "3d3f0478",
   "metadata": {},
   "outputs": [
    {
     "name": "stderr",
     "output_type": "stream",
     "text": [
      "C:\\Users\\Alejandro Reyes\\anaconda3\\lib\\site-packages\\sklearn\\base.py:450: UserWarning: X does not have valid feature names, but RandomForestRegressor was fitted with feature names\n",
      "  warnings.warn(\n"
     ]
    },
    {
     "data": {
      "image/png": "[encoded data removed]",
      "text/plain": [
       "<Figure size 576x396 with 2 Axes>"
      ]
     },
     "metadata": {},
     "output_type": "display_data"
    },
    {
     "data": {
      "text/plain": [
       "<AxesSubplot:title={'center':'Residuals for RandomForestRegressor Model'}, xlabel='Predicted Value', ylabel='Residuals'>"
      ]
     },
     "execution_count": 79,
     "metadata": {},
     "output_type": "execute_result"
    }
   ],
   "source": [
    "# Plotting the residuals\n",
    "from yellowbrick.regressor import ResidualsPlot\n",
    "visualizer = ResidualsPlot(tic1_2_rf)\n",
    "visualizer.fit(X_train, y_train)\n",
    "visualizer.score(X_test, y_test)\n",
    "visualizer.poof()"
   ]
  },
  {
   "cell_type": "code",
   "execution_count": 84,
   "id": "bc1ea633",
   "metadata": {},
   "outputs": [],
   "source": [
    "# The k-fold CV\n",
    "from sklearn.model_selection import cross_val_score"
   ]
  },
  {
   "cell_type": "code",
   "execution_count": null,
   "id": "a4357362",
   "metadata": {},
   "outputs": [],
   "source": []
  },
  {
   "cell_type": "code",
   "execution_count": 85,
   "id": "2b0a2050",
   "metadata": {},
   "outputs": [],
   "source": [
    "# Training model CV\n",
    "score_train = cross_val_score(tic1_2_rf, X_train, y_train, scoring = 'neg_mean_squared_error', cv = 10)"
   ]
  },
  {
   "cell_type": "code",
   "execution_count": 86,
   "id": "a3cfb7ca",
   "metadata": {},
   "outputs": [
    {
     "data": {
      "text/plain": [
       "array([-1.44562782e+12, -1.37477008e+12, -2.10503976e+11, -3.68816586e+10,\n",
       "       -2.27868746e+11, -1.39466979e+12, -2.64160982e+11, -4.92269709e+13,\n",
       "       -5.84599214e+10, -5.64432614e+13])"
      ]
     },
     "execution_count": 86,
     "metadata": {},
     "output_type": "execute_result"
    }
   ],
   "source": [
    "score_train"
   ]
  },
  {
   "cell_type": "code",
   "execution_count": 87,
   "id": "6682abc5",
   "metadata": {},
   "outputs": [
    {
     "name": "stdout",
     "output_type": "stream",
     "text": [
      "-11068317525408.604\n"
     ]
    }
   ],
   "source": [
    "# The mean score\n",
    "print(np.mean(score_train))"
   ]
  },
  {
   "cell_type": "code",
   "execution_count": 88,
   "id": "3da12303",
   "metadata": {},
   "outputs": [
    {
     "name": "stdout",
     "output_type": "stream",
     "text": [
      "11068317525408.604\n"
     ]
    }
   ],
   "source": [
    "# The absolute mean score\n",
    "from numpy import absolute\n",
    "print(absolute(np.mean(score_train)))"
   ]
  },
  {
   "cell_type": "code",
   "execution_count": 89,
   "id": "17ce8b4d",
   "metadata": {},
   "outputs": [],
   "source": [
    "# The testing model CV\n",
    "score_test = cross_val_score(tic1_2_rf, X_test, y_test, scoring = 'neg_mean_squared_error', cv = 10)"
   ]
  },
  {
   "cell_type": "code",
   "execution_count": 90,
   "id": "4bcb6335",
   "metadata": {},
   "outputs": [
    {
     "data": {
      "text/plain": [
       "array([-2.05147474e+10, -1.13898498e+11, -1.91037872e+12, -1.05283628e+11,\n",
       "       -9.19410154e+11, -3.71841020e+11, -2.98235583e+11, -2.39587786e+11,\n",
       "       -8.57436646e+12, -1.38443909e+10])"
      ]
     },
     "execution_count": 90,
     "metadata": {},
     "output_type": "execute_result"
    }
   ],
   "source": [
    "score_test"
   ]
  },
  {
   "cell_type": "code",
   "execution_count": 91,
   "id": "223b5d4d",
   "metadata": {},
   "outputs": [
    {
     "name": "stdout",
     "output_type": "stream",
     "text": [
      "-1256736099037.3406\n"
     ]
    }
   ],
   "source": [
    "print(np.mean(score_test))"
   ]
  },
  {
   "cell_type": "code",
   "execution_count": 92,
   "id": "561e3c7d",
   "metadata": {},
   "outputs": [
    {
     "name": "stdout",
     "output_type": "stream",
     "text": [
      "1256736099037.3406\n"
     ]
    }
   ],
   "source": [
    "# The absolute mean score\n",
    "from numpy import absolute\n",
    "print(absolute(np.mean(score_test)))"
   ]
  },
  {
   "cell_type": "code",
   "execution_count": 100,
   "id": "e721dcbd",
   "metadata": {},
   "outputs": [],
   "source": [
    "# Random Forest Feature Ranking\n",
    "from sklearn.pipeline import Pipeline"
   ]
  },
  {
   "cell_type": "code",
   "execution_count": 101,
   "id": "f8c94ee1",
   "metadata": {},
   "outputs": [],
   "source": [
    "f_list = list(X.columns)\n",
    "f_importance = pd.Series(tic1_2_rf.feature_importances_, index = f_list). sort_values(ascending = False)"
   ]
  },
  {
   "cell_type": "code",
   "execution_count": 102,
   "id": "abb204d9",
   "metadata": {},
   "outputs": [
    {
     "name": "stdout",
     "output_type": "stream",
     "text": [
      "tic1_3b           4.923136e-01\n",
      "tic1_3a           2.239838e-01\n",
      "tic1_3d           2.041752e-01\n",
      "tic4_1a           1.425714e-02\n",
      "Total_Personal    9.567320e-03\n",
      "Total_Espec       8.438040e-03\n",
      "Año               6.280190e-03\n",
      "tic2_3            6.277922e-03\n",
      "tic4_1b           6.008699e-03\n",
      "tic4_2e           5.238372e-03\n",
      "tic2_2_1a         4.214105e-03\n",
      "tic3_1_2d         3.631341e-03\n",
      "tic3_1            2.508970e-03\n",
      "tic4_2a           2.357267e-03\n",
      "tic3_1_2c         1.927833e-03\n",
      "tic4_2c           1.570634e-03\n",
      "tic2_6i           1.433328e-03\n",
      "tic1_3c           1.112407e-03\n",
      "tic5_1a           8.190783e-04\n",
      "tic4_1d           6.493181e-04\n",
      "tic2_2_1b         5.949560e-04\n",
      "tic2_8_2c         3.688596e-04\n",
      "tic4_2b           3.188690e-04\n",
      "tic5_1d           3.154924e-04\n",
      "tic6_2a           2.276494e-04\n",
      "tic5_1b           2.118572e-04\n",
      "tic3_1_2e         1.787928e-04\n",
      "tic2_6d           1.781240e-04\n",
      "tic3_2            1.586875e-04\n",
      "tic4_1e           1.166443e-04\n",
      "tic6_2b           9.663652e-05\n",
      "tic5_1h           7.191204e-05\n",
      "tic3_1_2b         7.022803e-05\n",
      "tic2_6c           5.713749e-05\n",
      "tic6_2c           5.181157e-05\n",
      "tic4_4g           4.823897e-05\n",
      "tic2_8_2b         3.881788e-05\n",
      "tic2_8            3.749433e-05\n",
      "tic4_2d           3.243001e-05\n",
      "tic4_4h           2.046541e-05\n",
      "tic2_6f           8.181495e-06\n",
      "tic2_6h           8.093965e-06\n",
      "tic4_4c           5.464914e-06\n",
      "tic4_4d           3.744797e-06\n",
      "tic3_1_2f         2.841250e-06\n",
      "tic6_1            2.127586e-06\n",
      "tic2_6k           1.993571e-06\n",
      "tic2_6b           1.969705e-06\n",
      "tic2_2_1c         1.652440e-06\n",
      "tic4_4f           1.124003e-06\n",
      "tic4_4e           7.813623e-07\n",
      "tic4_4a           6.922253e-07\n",
      "tic4_4b           5.631200e-07\n",
      "tic5_1f           5.020121e-07\n",
      "des_tamano        3.042934e-07\n",
      "tic2_6g           2.526520e-07\n",
      "tic2_6a           1.438786e-09\n",
      "dtype: float64\n"
     ]
    }
   ],
   "source": [
    "print(f_importance)"
   ]
  },
  {
   "cell_type": "raw",
   "id": "d73c1959",
   "metadata": {},
   "source": [
    "Lo que estás viendo es una serie de pandas que muestra las características y sus respectivas importancias en un modelo de regresión. Cada línea representa una característica, y el número decimal a la derecha indica la importancia relativa de esa característica.\n",
    "\n",
    "Aquí tienes un ejemplo de cómo leer una línea de la serie:\n",
    "\n",
    "La primera línea, tic1_3b 5.405241e-01, indica que la característica tic1_3b tiene una importancia de 0.5405241 (aproximadamente el 54.05%)."
   ]
  },
  {
   "cell_type": "code",
   "execution_count": null,
   "id": "3c1efe8c",
   "metadata": {},
   "outputs": [],
   "source": []
  },
  {
   "cell_type": "code",
   "execution_count": null,
   "id": "8ae56ecb",
   "metadata": {},
   "outputs": [],
   "source": []
  },
  {
   "cell_type": "code",
   "execution_count": null,
   "id": "c6f65904",
   "metadata": {},
   "outputs": [],
   "source": []
  },
  {
   "cell_type": "code",
   "execution_count": 103,
   "id": "b6b1770f",
   "metadata": {},
   "outputs": [
    {
     "name": "stdout",
     "output_type": "stream",
     "text": [
      "tic1_3b           0.492314\n",
      "tic1_3a           0.223984\n",
      "tic1_3d           0.204175\n",
      "tic4_1a           0.014257\n",
      "Total_Personal    0.009567\n",
      "dtype: float64\n"
     ]
    }
   ],
   "source": [
    "import pandas as pd\n",
    "\n",
    "f_list = list(X.columns)\n",
    "f_importance = pd.Series(tic1_2_rf.feature_importances_, index=f_list).sort_values(ascending=False)\n",
    "\n",
    "top_5_values = f_importance.head(5)\n",
    "print(top_5_values)"
   ]
  },
  {
   "cell_type": "code",
   "execution_count": null,
   "id": "3895a82d",
   "metadata": {},
   "outputs": [],
   "source": []
  },
  {
   "cell_type": "code",
   "execution_count": null,
   "id": "92732cc0",
   "metadata": {},
   "outputs": [],
   "source": []
  },
  {
   "cell_type": "code",
   "execution_count": null,
   "id": "ac42924a",
   "metadata": {},
   "outputs": [],
   "source": []
  },
  {
   "cell_type": "raw",
   "id": "ec383ce2",
   "metadata": {},
   "source": [
    "GPT:"
   ]
  },
  {
   "cell_type": "code",
   "execution_count": 75,
   "id": "7f0528bb",
   "metadata": {},
   "outputs": [
    {
     "name": "stdout",
     "output_type": "stream",
     "text": [
      "tic2_6a: 6.5751822759709305e-09\n",
      "des_tamano: 7.080723064721736e-07\n",
      "tic2_2_1c: 1.3512491550722494e-06\n",
      "tic4_4c: 2.5713109836538455e-06\n",
      "tic5_1f: 3.399564503507402e-06\n",
      "tic6_1: 3.908282429952571e-06\n",
      "tic2_6b: 5.480451603444247e-06\n",
      "tic4_4d: 5.680375447858374e-06\n",
      "tic2_6k: 6.092567489834255e-06\n",
      "tic2_6f: 6.921267966863183e-06\n",
      "tic2_8: 7.599580801049207e-06\n",
      "tic2_6h: 1.2358832983805253e-05\n",
      "tic5_1a: 1.3195786361632988e-05\n",
      "tic4_4f: 1.5100420876893271e-05\n",
      "tic4_4a: 1.5324441334640143e-05\n",
      "tic4_4h: 2.358671432171602e-05\n",
      "tic5_1h: 4.809035856426425e-05\n",
      "tic2_6g: 5.170454920330571e-05\n",
      "tic4_4b: 6.598605921826445e-05\n",
      "tic4_4g: 7.046273987497261e-05\n",
      "tic4_4e: 7.247936149148705e-05\n",
      "tic2_3: 7.441429421599424e-05\n",
      "tic2_8_2b: 7.52742800423232e-05\n",
      "tic3_1_2e: 0.00012162100728511089\n",
      "tic2_6i: 0.00013985416018904285\n",
      "tic3_1_2c: 0.00015147192487158638\n",
      "tic2_6c: 0.0001577988376440261\n",
      "tic4_2c: 0.00019574691430024812\n",
      "tic4_2a: 0.0005008447891713253\n",
      "tic4_1d: 0.0006748548010769657\n",
      "tic3_1_2f: 0.0007741580474201579\n",
      "tic3_1_2d: 0.0008515720279155636\n",
      "tic3_1_2b: 0.0008847325720170853\n",
      "tic4_2e: 0.0009669993773963681\n",
      "tic1_3c: 0.0009730907565262245\n",
      "tic2_2_1b: 0.0010067194291615224\n",
      "tic4_2b: 0.0010993476639260093\n",
      "tic4_2d: 0.001337678308402856\n",
      "tic2_2_1a: 0.0013703416877923601\n",
      "tic5_1d: 0.001445991445272261\n",
      "tic4_1e: 0.0016572452868102523\n",
      "tic5_1b: 0.0019768382535633347\n",
      "tic3_1: 0.0020188900657210182\n",
      "tic2_8_2c: 0.0021075198833176365\n",
      "tic2_6d: 0.0024581829741475276\n",
      "tic4_1b: 0.0034881736592893373\n",
      "tic6_2b: 0.0034993361214982035\n",
      "tic6_2c: 0.0040617794534757124\n",
      "tic3_2: 0.004277837519519388\n",
      "tic6_2a: 0.0050693536912043155\n",
      "Año: 0.005945378512159513\n",
      "tic4_1a: 0.011414998679727185\n",
      "Total_Espec: 0.011487043446426185\n",
      "Total_Personal: 0.012432413813841685\n",
      "tic1_3d: 0.16934205650172912\n",
      "tic1_3a: 0.25357839820862144\n",
      "tic1_3b: 0.4919500330422202\n"
     ]
    }
   ],
   "source": [
    "from sklearn.ensemble import RandomForestRegressor\n",
    "\n",
    "# Supongamos que tienes una matriz 'X' con tus variables predictoras y un vector 'y' con la variable objetivo.\n",
    "\n",
    "# Crear una instancia del modelo de Random Forest\n",
    "model = RandomForestRegressor()\n",
    "\n",
    "# Ajustar el modelo a tus datos\n",
    "model.fit(X, y)\n",
    "\n",
    "# Obtener las importancias de las variables\n",
    "importances = model.feature_importances_\n",
    "\n",
    "# Crear una lista de tuplas (variable, importancia)\n",
    "feature_importances = list(zip(X.columns, importances))\n",
    "\n",
    "# Ordenar las importancias en orden ascendente\n",
    "feature_importances.sort(key=lambda x: x[1])\n",
    "\n",
    "# Imprimir las importancias de cada variable en orden ascendente\n",
    "for feature, importance in feature_importances:\n",
    "    print(f\"{feature}: {importance}\")"
   ]
  },
  {
   "cell_type": "code",
   "execution_count": null,
   "id": "f7f68f0d",
   "metadata": {},
   "outputs": [],
   "source": []
  },
  {
   "cell_type": "code",
   "execution_count": null,
   "id": "f5bc7f2b",
   "metadata": {},
   "outputs": [],
   "source": []
  },
  {
   "cell_type": "code",
   "execution_count": null,
   "id": "89b30ad5",
   "metadata": {},
   "outputs": [],
   "source": []
  },
  {
   "cell_type": "code",
   "execution_count": null,
   "id": "9cba02d9",
   "metadata": {},
   "outputs": [],
   "source": []
  },
  {
   "cell_type": "code",
   "execution_count": null,
   "id": "5b611474",
   "metadata": {},
   "outputs": [],
   "source": []
  },
  {
   "cell_type": "code",
   "execution_count": null,
   "id": "16cca579",
   "metadata": {},
   "outputs": [],
   "source": []
  },
  {
   "cell_type": "code",
   "execution_count": 11,
   "id": "c8bf9cf1",
   "metadata": {},
   "outputs": [],
   "source": [
    "# Obtener la columna 'tic1_2'\n",
    "tic1_2 = df['tic1_2']\n",
    "\n",
    "# Eliminar la columna 'tic1_2' del DataFrame\n",
    "df.drop('tic1_2', axis=1, inplace=True)\n",
    "\n",
    "# Agregar la columna 'tic1_2' al final del DataFrame\n",
    "df['tic1_2'] = tic1_2"
   ]
  },
  {
   "cell_type": "code",
   "execution_count": 12,
   "id": "57c04125",
   "metadata": {},
   "outputs": [
    {
     "data": {
      "text/html": [
       "<div>\n",
       "<style scoped>\n",
       "    .dataframe tbody tr th:only-of-type {\n",
       "        vertical-align: middle;\n",
       "    }\n",
       "\n",
       "    .dataframe tbody tr th {\n",
       "        vertical-align: top;\n",
       "    }\n",
       "\n",
       "    .dataframe thead th {\n",
       "        text-align: right;\n",
       "    }\n",
       "</style>\n",
       "<table border=\"1\" class=\"dataframe\">\n",
       "  <thead>\n",
       "    <tr style=\"text-align: right;\">\n",
       "      <th></th>\n",
       "      <th>des_tamano</th>\n",
       "      <th>tic1_3a</th>\n",
       "      <th>tic1_3b</th>\n",
       "      <th>tic1_3c</th>\n",
       "      <th>tic1_3d</th>\n",
       "      <th>tic2_2_1a</th>\n",
       "      <th>tic2_2_1b</th>\n",
       "      <th>tic2_2_1c</th>\n",
       "      <th>tic2_3</th>\n",
       "      <th>tic2_6a</th>\n",
       "      <th>...</th>\n",
       "      <th>tic5_1f</th>\n",
       "      <th>tic5_1h</th>\n",
       "      <th>tic6_1</th>\n",
       "      <th>tic6_2a</th>\n",
       "      <th>tic6_2b</th>\n",
       "      <th>tic6_2c</th>\n",
       "      <th>Año</th>\n",
       "      <th>Total_Personal</th>\n",
       "      <th>Total_Espec</th>\n",
       "      <th>tic1_2</th>\n",
       "    </tr>\n",
       "  </thead>\n",
       "  <tbody>\n",
       "    <tr>\n",
       "      <th>0</th>\n",
       "      <td>2</td>\n",
       "      <td>0</td>\n",
       "      <td>3481</td>\n",
       "      <td>0</td>\n",
       "      <td>0</td>\n",
       "      <td>2</td>\n",
       "      <td>2</td>\n",
       "      <td>1</td>\n",
       "      <td>1</td>\n",
       "      <td>1</td>\n",
       "      <td>...</td>\n",
       "      <td>2</td>\n",
       "      <td>2</td>\n",
       "      <td>2</td>\n",
       "      <td>2</td>\n",
       "      <td>2</td>\n",
       "      <td>1</td>\n",
       "      <td>2016</td>\n",
       "      <td>2</td>\n",
       "      <td>0</td>\n",
       "      <td>3481</td>\n",
       "    </tr>\n",
       "    <tr>\n",
       "      <th>1</th>\n",
       "      <td>0</td>\n",
       "      <td>600</td>\n",
       "      <td>360</td>\n",
       "      <td>240</td>\n",
       "      <td>0</td>\n",
       "      <td>1</td>\n",
       "      <td>2</td>\n",
       "      <td>2</td>\n",
       "      <td>2</td>\n",
       "      <td>1</td>\n",
       "      <td>...</td>\n",
       "      <td>2</td>\n",
       "      <td>1</td>\n",
       "      <td>2</td>\n",
       "      <td>2</td>\n",
       "      <td>2</td>\n",
       "      <td>1</td>\n",
       "      <td>2016</td>\n",
       "      <td>2</td>\n",
       "      <td>0</td>\n",
       "      <td>1200</td>\n",
       "    </tr>\n",
       "    <tr>\n",
       "      <th>2</th>\n",
       "      <td>2</td>\n",
       "      <td>4761</td>\n",
       "      <td>0</td>\n",
       "      <td>0</td>\n",
       "      <td>0</td>\n",
       "      <td>2</td>\n",
       "      <td>2</td>\n",
       "      <td>1</td>\n",
       "      <td>2</td>\n",
       "      <td>1</td>\n",
       "      <td>...</td>\n",
       "      <td>1</td>\n",
       "      <td>1</td>\n",
       "      <td>2</td>\n",
       "      <td>2</td>\n",
       "      <td>2</td>\n",
       "      <td>1</td>\n",
       "      <td>2016</td>\n",
       "      <td>8</td>\n",
       "      <td>0</td>\n",
       "      <td>4761</td>\n",
       "    </tr>\n",
       "    <tr>\n",
       "      <th>3</th>\n",
       "      <td>2</td>\n",
       "      <td>31598</td>\n",
       "      <td>0</td>\n",
       "      <td>0</td>\n",
       "      <td>0</td>\n",
       "      <td>2</td>\n",
       "      <td>1</td>\n",
       "      <td>2</td>\n",
       "      <td>2</td>\n",
       "      <td>1</td>\n",
       "      <td>...</td>\n",
       "      <td>1</td>\n",
       "      <td>2</td>\n",
       "      <td>2</td>\n",
       "      <td>2</td>\n",
       "      <td>2</td>\n",
       "      <td>1</td>\n",
       "      <td>2016</td>\n",
       "      <td>1</td>\n",
       "      <td>0</td>\n",
       "      <td>31598</td>\n",
       "    </tr>\n",
       "    <tr>\n",
       "      <th>4</th>\n",
       "      <td>1</td>\n",
       "      <td>101277</td>\n",
       "      <td>0</td>\n",
       "      <td>0</td>\n",
       "      <td>0</td>\n",
       "      <td>2</td>\n",
       "      <td>2</td>\n",
       "      <td>1</td>\n",
       "      <td>2</td>\n",
       "      <td>1</td>\n",
       "      <td>...</td>\n",
       "      <td>1</td>\n",
       "      <td>2</td>\n",
       "      <td>2</td>\n",
       "      <td>2</td>\n",
       "      <td>2</td>\n",
       "      <td>1</td>\n",
       "      <td>2016</td>\n",
       "      <td>3</td>\n",
       "      <td>0</td>\n",
       "      <td>101277</td>\n",
       "    </tr>\n",
       "    <tr>\n",
       "      <th>...</th>\n",
       "      <td>...</td>\n",
       "      <td>...</td>\n",
       "      <td>...</td>\n",
       "      <td>...</td>\n",
       "      <td>...</td>\n",
       "      <td>...</td>\n",
       "      <td>...</td>\n",
       "      <td>...</td>\n",
       "      <td>...</td>\n",
       "      <td>...</td>\n",
       "      <td>...</td>\n",
       "      <td>...</td>\n",
       "      <td>...</td>\n",
       "      <td>...</td>\n",
       "      <td>...</td>\n",
       "      <td>...</td>\n",
       "      <td>...</td>\n",
       "      <td>...</td>\n",
       "      <td>...</td>\n",
       "      <td>...</td>\n",
       "      <td>...</td>\n",
       "    </tr>\n",
       "    <tr>\n",
       "      <th>14024</th>\n",
       "      <td>0</td>\n",
       "      <td>0</td>\n",
       "      <td>33388</td>\n",
       "      <td>0</td>\n",
       "      <td>0</td>\n",
       "      <td>2</td>\n",
       "      <td>2</td>\n",
       "      <td>1</td>\n",
       "      <td>1</td>\n",
       "      <td>1</td>\n",
       "      <td>...</td>\n",
       "      <td>1</td>\n",
       "      <td>1</td>\n",
       "      <td>2</td>\n",
       "      <td>2</td>\n",
       "      <td>1</td>\n",
       "      <td>2</td>\n",
       "      <td>2021</td>\n",
       "      <td>3</td>\n",
       "      <td>0</td>\n",
       "      <td>33388</td>\n",
       "    </tr>\n",
       "    <tr>\n",
       "      <th>14025</th>\n",
       "      <td>0</td>\n",
       "      <td>16359</td>\n",
       "      <td>10459</td>\n",
       "      <td>0</td>\n",
       "      <td>0</td>\n",
       "      <td>2</td>\n",
       "      <td>2</td>\n",
       "      <td>1</td>\n",
       "      <td>1</td>\n",
       "      <td>1</td>\n",
       "      <td>...</td>\n",
       "      <td>1</td>\n",
       "      <td>1</td>\n",
       "      <td>1</td>\n",
       "      <td>2</td>\n",
       "      <td>2</td>\n",
       "      <td>1</td>\n",
       "      <td>2021</td>\n",
       "      <td>21</td>\n",
       "      <td>1</td>\n",
       "      <td>26819</td>\n",
       "    </tr>\n",
       "    <tr>\n",
       "      <th>14026</th>\n",
       "      <td>1</td>\n",
       "      <td>10506</td>\n",
       "      <td>0</td>\n",
       "      <td>0</td>\n",
       "      <td>0</td>\n",
       "      <td>2</td>\n",
       "      <td>2</td>\n",
       "      <td>1</td>\n",
       "      <td>2</td>\n",
       "      <td>1</td>\n",
       "      <td>...</td>\n",
       "      <td>1</td>\n",
       "      <td>2</td>\n",
       "      <td>2</td>\n",
       "      <td>2</td>\n",
       "      <td>2</td>\n",
       "      <td>1</td>\n",
       "      <td>2021</td>\n",
       "      <td>60</td>\n",
       "      <td>0</td>\n",
       "      <td>10506</td>\n",
       "    </tr>\n",
       "    <tr>\n",
       "      <th>14027</th>\n",
       "      <td>0</td>\n",
       "      <td>196</td>\n",
       "      <td>1985</td>\n",
       "      <td>0</td>\n",
       "      <td>0</td>\n",
       "      <td>2</td>\n",
       "      <td>2</td>\n",
       "      <td>1</td>\n",
       "      <td>1</td>\n",
       "      <td>1</td>\n",
       "      <td>...</td>\n",
       "      <td>1</td>\n",
       "      <td>2</td>\n",
       "      <td>2</td>\n",
       "      <td>2</td>\n",
       "      <td>1</td>\n",
       "      <td>2</td>\n",
       "      <td>2021</td>\n",
       "      <td>22</td>\n",
       "      <td>0</td>\n",
       "      <td>2182</td>\n",
       "    </tr>\n",
       "    <tr>\n",
       "      <th>14028</th>\n",
       "      <td>2</td>\n",
       "      <td>2330</td>\n",
       "      <td>0</td>\n",
       "      <td>0</td>\n",
       "      <td>0</td>\n",
       "      <td>2</td>\n",
       "      <td>2</td>\n",
       "      <td>1</td>\n",
       "      <td>2</td>\n",
       "      <td>1</td>\n",
       "      <td>...</td>\n",
       "      <td>2</td>\n",
       "      <td>1</td>\n",
       "      <td>2</td>\n",
       "      <td>2</td>\n",
       "      <td>2</td>\n",
       "      <td>1</td>\n",
       "      <td>2021</td>\n",
       "      <td>91</td>\n",
       "      <td>0</td>\n",
       "      <td>2330</td>\n",
       "    </tr>\n",
       "  </tbody>\n",
       "</table>\n",
       "<p>14029 rows × 58 columns</p>\n",
       "</div>"
      ],
      "text/plain": [
       "       des_tamano  tic1_3a  tic1_3b  tic1_3c  tic1_3d  tic2_2_1a  tic2_2_1b  \\\n",
       "0               2        0     3481        0        0          2          2   \n",
       "1               0      600      360      240        0          1          2   \n",
       "2               2     4761        0        0        0          2          2   \n",
       "3               2    31598        0        0        0          2          1   \n",
       "4               1   101277        0        0        0          2          2   \n",
       "...           ...      ...      ...      ...      ...        ...        ...   \n",
       "14024           0        0    33388        0        0          2          2   \n",
       "14025           0    16359    10459        0        0          2          2   \n",
       "14026           1    10506        0        0        0          2          2   \n",
       "14027           0      196     1985        0        0          2          2   \n",
       "14028           2     2330        0        0        0          2          2   \n",
       "\n",
       "       tic2_2_1c  tic2_3  tic2_6a  ...  tic5_1f  tic5_1h  tic6_1  tic6_2a  \\\n",
       "0              1       1        1  ...        2        2       2        2   \n",
       "1              2       2        1  ...        2        1       2        2   \n",
       "2              1       2        1  ...        1        1       2        2   \n",
       "3              2       2        1  ...        1        2       2        2   \n",
       "4              1       2        1  ...        1        2       2        2   \n",
       "...          ...     ...      ...  ...      ...      ...     ...      ...   \n",
       "14024          1       1        1  ...        1        1       2        2   \n",
       "14025          1       1        1  ...        1        1       1        2   \n",
       "14026          1       2        1  ...        1        2       2        2   \n",
       "14027          1       1        1  ...        1        2       2        2   \n",
       "14028          1       2        1  ...        2        1       2        2   \n",
       "\n",
       "       tic6_2b  tic6_2c   Año  Total_Personal  Total_Espec  tic1_2  \n",
       "0            2        1  2016               2            0    3481  \n",
       "1            2        1  2016               2            0    1200  \n",
       "2            2        1  2016               8            0    4761  \n",
       "3            2        1  2016               1            0   31598  \n",
       "4            2        1  2016               3            0  101277  \n",
       "...        ...      ...   ...             ...          ...     ...  \n",
       "14024        1        2  2021               3            0   33388  \n",
       "14025        2        1  2021              21            1   26819  \n",
       "14026        2        1  2021              60            0   10506  \n",
       "14027        1        2  2021              22            0    2182  \n",
       "14028        2        1  2021              91            0    2330  \n",
       "\n",
       "[14029 rows x 58 columns]"
      ]
     },
     "execution_count": 12,
     "metadata": {},
     "output_type": "execute_result"
    }
   ],
   "source": [
    "df"
   ]
  },
  {
   "cell_type": "code",
   "execution_count": 20,
   "id": "9f007b28",
   "metadata": {},
   "outputs": [
    {
     "data": {
      "text/plain": [
       "RandomForestClassifier()"
      ]
     },
     "execution_count": 20,
     "metadata": {},
     "output_type": "execute_result"
    }
   ],
   "source": [
    "from sklearn.ensemble import RandomForestClassifier\n",
    "\n",
    "rf = RandomForestClassifier(n_estimators=100)\n",
    "# cambiar valores de acuerdo al numero de columnas en el dataset\n",
    "rf.fit(df.iloc[:, 0:54], df.iloc[:,54])"
   ]
  },
  {
   "cell_type": "code",
   "execution_count": 21,
   "id": "53baa964",
   "metadata": {},
   "outputs": [
    {
     "data": {
      "text/plain": [
       "Text(0.5, 0, 'Random Forest Feature Importance')"
      ]
     },
     "execution_count": 21,
     "metadata": {},
     "output_type": "execute_result"
    },
    {
     "data": {
      "image/png": "[encoded data removed]",
      "text/plain": [
       "<Figure size 432x288 with 1 Axes>"
      ]
     },
     "metadata": {
      "needs_background": "light"
     },
     "output_type": "display_data"
    }
   ],
   "source": [
    "sorted_idx = rf.feature_importances_.argsort()\n",
    "plt.barh(df.columns[sorted_idx], rf.feature_importances_[sorted_idx])\n",
    "plt.xlabel(\"Random Forest Feature Importance\")"
   ]
  },
  {
   "cell_type": "code",
   "execution_count": 22,
   "id": "552d8f83",
   "metadata": {},
   "outputs": [
    {
     "data": {
      "image/png": "[encoded data removed]",
      "text/plain": [
       "<Figure size 1152x1008 with 1 Axes>"
      ]
     },
     "metadata": {
      "needs_background": "light"
     },
     "output_type": "display_data"
    }
   ],
   "source": [
    "plt.figure(figsize=(16, 14))  # Ajusta el tamaño de la figura según tus preferencias\n",
    "sorted_idx = rf.feature_importances_.argsort()\n",
    "plt.barh(df.columns[sorted_idx], rf.feature_importances_[sorted_idx])\n",
    "plt.xlabel(\"Random Forest Feature Importance\")\n",
    "\n",
    "plt.show()"
   ]
  },
  {
   "cell_type": "code",
   "execution_count": null,
   "id": "a5813a77",
   "metadata": {},
   "outputs": [],
   "source": []
  },
  {
   "cell_type": "code",
   "execution_count": null,
   "id": "2131383a",
   "metadata": {},
   "outputs": [],
   "source": []
  },
  {
   "cell_type": "code",
   "execution_count": null,
   "id": "6e505900",
   "metadata": {},
   "outputs": [],
   "source": []
  },
  {
   "cell_type": "code",
   "execution_count": null,
   "id": "0e60f81e",
   "metadata": {},
   "outputs": [],
   "source": []
  },
  {
   "cell_type": "code",
   "execution_count": null,
   "id": "dcdbb804",
   "metadata": {},
   "outputs": [],
   "source": []
  },
  {
   "cell_type": "code",
   "execution_count": null,
   "id": "4d034845",
   "metadata": {},
   "outputs": [],
   "source": []
  }
 ],
 "metadata": {
  "kernelspec": {
   "display_name": "Python 3 (ipykernel)",
   "language": "python",
   "name": "python3"
  },
  "language_info": {
   "codemirror_mode": {
    "name": "ipython",
    "version": 3
   },
   "file_extension": ".py",
   "mimetype": "text/x-python",
   "name": "python",
   "nbconvert_exporter": "python",
   "pygments_lexer": "ipython3",
   "version": "3.9.12"
  }
 },
 "nbformat": 4,
 "nbformat_minor": 5
}
